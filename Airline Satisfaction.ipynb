{
 "cells": [
  {
   "cell_type": "markdown",
   "metadata": {},
   "source": [
    "# Airline Passenger Satisfaction"
   ]
  },
  {
   "cell_type": "markdown",
   "metadata": {},
   "source": [
    "### About Dataset\n",
    "This dataset contains an airline passenger satisfaction survey. What factors are highly correlated to a satisfied (or dissatisfied) passenger? Can you predict passenger satisfaction?\n",
    "\n",
    "### Content\n",
    "Gender: Gender of the passengers (Female, Male)\n",
    "\n",
    "Customer Type: The customer type (Loyal customer, disloyal customer)\n",
    "\n",
    "Age: The actual age of the passengers\n",
    "\n",
    "Type of Travel: Purpose of the flight of the passengers (Personal Travel, Business Travel)\n",
    "\n",
    "Class: Travel class in the plane of the passengers (Business, Eco, Eco Plus)\n",
    "\n",
    "Flight distance: The flight distance of this journey\n",
    "\n",
    "Inflight wifi service: Satisfaction level of the inflight wifi service (0:Not Applicable;1-5)\n",
    "\n",
    "Departure/Arrival time convenient: Satisfaction level of Departure/Arrival time convenient\n",
    "\n",
    "Ease of Online booking: Satisfaction level of online booking\n",
    "\n",
    "Gate location: Satisfaction level of Gate location\n",
    "\n",
    "Food and drink: Satisfaction level of Food and drink\n",
    "\n",
    "Online boarding: Satisfaction level of online boarding\n",
    "\n",
    "Seat comfort: Satisfaction level of Seat comfort\n",
    "\n",
    "Inflight entertainment: Satisfaction level of inflight entertainment\n",
    "\n",
    "On-board service: Satisfaction level of On-board service\n",
    "\n",
    "Leg room service: Satisfaction level of Leg room service\n",
    "\n",
    "Baggage handling: Satisfaction level of baggage handling\n",
    "\n",
    "Check-in service: Satisfaction level of Check-in service\n",
    "\n",
    "Inflight service: Satisfaction level of inflight service\n",
    "\n",
    "Cleanliness: Satisfaction level of Cleanliness\n",
    "\n",
    "Departure Delay in Minutes: Minutes delayed when departure\n",
    "\n",
    "Arrival Delay in Minutes: Minutes delayed when Arrival\n",
    "\n",
    "Satisfaction: Airline satisfaction level(Satisfaction, neutral or dissatisfaction)"
   ]
  },
  {
   "cell_type": "code",
   "execution_count": 36,
   "metadata": {},
   "outputs": [],
   "source": [
    "import pandas as pd\n",
    "import numpy as np\n",
    "import matplotlib.pyplot as plt\n",
    "import seaborn as sns\n",
    "import scipy.stats as stats\n",
    "\n",
    "pd.set_option(\"display.max_columns\",50)\n",
    "pd.set_option(\"display.max_rows\",500)\n",
    "\n",
    "import warnings\n",
    "warnings.filterwarnings(\"ignore\")\n",
    "\n",
    "import statsmodels.api as sm\n",
    "from sklearn.preprocessing import StandardScaler\n",
    "from sklearn.metrics import classification_report,accuracy_score,precision_score,recall_score,f1_score,\\\n",
    "confusion_matrix,cohen_kappa_score,roc_auc_score,roc_curve"
   ]
  },
  {
   "cell_type": "code",
   "execution_count": 2,
   "metadata": {
    "colab_type": "raw",
    "id": "VQ_WA9jKW0ch"
   },
   "outputs": [
    {
     "data": {
      "text/html": [
       "<div>\n",
       "<style scoped>\n",
       "    .dataframe tbody tr th:only-of-type {\n",
       "        vertical-align: middle;\n",
       "    }\n",
       "\n",
       "    .dataframe tbody tr th {\n",
       "        vertical-align: top;\n",
       "    }\n",
       "\n",
       "    .dataframe thead th {\n",
       "        text-align: right;\n",
       "    }\n",
       "</style>\n",
       "<table border=\"1\" class=\"dataframe\">\n",
       "  <thead>\n",
       "    <tr style=\"text-align: right;\">\n",
       "      <th></th>\n",
       "      <th>Unnamed: 0</th>\n",
       "      <th>id</th>\n",
       "      <th>Gender</th>\n",
       "      <th>Customer Type</th>\n",
       "      <th>Age</th>\n",
       "      <th>Type of Travel</th>\n",
       "      <th>Class</th>\n",
       "      <th>Flight Distance</th>\n",
       "      <th>Inflight wifi service</th>\n",
       "      <th>Departure/Arrival time convenient</th>\n",
       "      <th>Ease of Online booking</th>\n",
       "      <th>Gate location</th>\n",
       "      <th>Food and drink</th>\n",
       "      <th>Online boarding</th>\n",
       "      <th>Seat comfort</th>\n",
       "      <th>Inflight entertainment</th>\n",
       "      <th>On-board service</th>\n",
       "      <th>Leg room service</th>\n",
       "      <th>Baggage handling</th>\n",
       "      <th>Checkin service</th>\n",
       "      <th>Inflight service</th>\n",
       "      <th>Cleanliness</th>\n",
       "      <th>Departure Delay in Minutes</th>\n",
       "      <th>Arrival Delay in Minutes</th>\n",
       "      <th>satisfaction</th>\n",
       "    </tr>\n",
       "  </thead>\n",
       "  <tbody>\n",
       "    <tr>\n",
       "      <th>0</th>\n",
       "      <td>0</td>\n",
       "      <td>70172</td>\n",
       "      <td>Male</td>\n",
       "      <td>Loyal Customer</td>\n",
       "      <td>13</td>\n",
       "      <td>Personal Travel</td>\n",
       "      <td>Eco Plus</td>\n",
       "      <td>460</td>\n",
       "      <td>3</td>\n",
       "      <td>4</td>\n",
       "      <td>3</td>\n",
       "      <td>1</td>\n",
       "      <td>5</td>\n",
       "      <td>3</td>\n",
       "      <td>5</td>\n",
       "      <td>5</td>\n",
       "      <td>4</td>\n",
       "      <td>3</td>\n",
       "      <td>4</td>\n",
       "      <td>4</td>\n",
       "      <td>5</td>\n",
       "      <td>5</td>\n",
       "      <td>25</td>\n",
       "      <td>18.0</td>\n",
       "      <td>neutral or dissatisfied</td>\n",
       "    </tr>\n",
       "    <tr>\n",
       "      <th>1</th>\n",
       "      <td>1</td>\n",
       "      <td>5047</td>\n",
       "      <td>Male</td>\n",
       "      <td>disloyal Customer</td>\n",
       "      <td>25</td>\n",
       "      <td>Business travel</td>\n",
       "      <td>Business</td>\n",
       "      <td>235</td>\n",
       "      <td>3</td>\n",
       "      <td>2</td>\n",
       "      <td>3</td>\n",
       "      <td>3</td>\n",
       "      <td>1</td>\n",
       "      <td>3</td>\n",
       "      <td>1</td>\n",
       "      <td>1</td>\n",
       "      <td>1</td>\n",
       "      <td>5</td>\n",
       "      <td>3</td>\n",
       "      <td>1</td>\n",
       "      <td>4</td>\n",
       "      <td>1</td>\n",
       "      <td>1</td>\n",
       "      <td>6.0</td>\n",
       "      <td>neutral or dissatisfied</td>\n",
       "    </tr>\n",
       "    <tr>\n",
       "      <th>2</th>\n",
       "      <td>2</td>\n",
       "      <td>110028</td>\n",
       "      <td>Female</td>\n",
       "      <td>Loyal Customer</td>\n",
       "      <td>26</td>\n",
       "      <td>Business travel</td>\n",
       "      <td>Business</td>\n",
       "      <td>1142</td>\n",
       "      <td>2</td>\n",
       "      <td>2</td>\n",
       "      <td>2</td>\n",
       "      <td>2</td>\n",
       "      <td>5</td>\n",
       "      <td>5</td>\n",
       "      <td>5</td>\n",
       "      <td>5</td>\n",
       "      <td>4</td>\n",
       "      <td>3</td>\n",
       "      <td>4</td>\n",
       "      <td>4</td>\n",
       "      <td>4</td>\n",
       "      <td>5</td>\n",
       "      <td>0</td>\n",
       "      <td>0.0</td>\n",
       "      <td>satisfied</td>\n",
       "    </tr>\n",
       "    <tr>\n",
       "      <th>3</th>\n",
       "      <td>3</td>\n",
       "      <td>24026</td>\n",
       "      <td>Female</td>\n",
       "      <td>Loyal Customer</td>\n",
       "      <td>25</td>\n",
       "      <td>Business travel</td>\n",
       "      <td>Business</td>\n",
       "      <td>562</td>\n",
       "      <td>2</td>\n",
       "      <td>5</td>\n",
       "      <td>5</td>\n",
       "      <td>5</td>\n",
       "      <td>2</td>\n",
       "      <td>2</td>\n",
       "      <td>2</td>\n",
       "      <td>2</td>\n",
       "      <td>2</td>\n",
       "      <td>5</td>\n",
       "      <td>3</td>\n",
       "      <td>1</td>\n",
       "      <td>4</td>\n",
       "      <td>2</td>\n",
       "      <td>11</td>\n",
       "      <td>9.0</td>\n",
       "      <td>neutral or dissatisfied</td>\n",
       "    </tr>\n",
       "    <tr>\n",
       "      <th>4</th>\n",
       "      <td>4</td>\n",
       "      <td>119299</td>\n",
       "      <td>Male</td>\n",
       "      <td>Loyal Customer</td>\n",
       "      <td>61</td>\n",
       "      <td>Business travel</td>\n",
       "      <td>Business</td>\n",
       "      <td>214</td>\n",
       "      <td>3</td>\n",
       "      <td>3</td>\n",
       "      <td>3</td>\n",
       "      <td>3</td>\n",
       "      <td>4</td>\n",
       "      <td>5</td>\n",
       "      <td>5</td>\n",
       "      <td>3</td>\n",
       "      <td>3</td>\n",
       "      <td>4</td>\n",
       "      <td>4</td>\n",
       "      <td>3</td>\n",
       "      <td>3</td>\n",
       "      <td>3</td>\n",
       "      <td>0</td>\n",
       "      <td>0.0</td>\n",
       "      <td>satisfied</td>\n",
       "    </tr>\n",
       "  </tbody>\n",
       "</table>\n",
       "</div>"
      ],
      "text/plain": [
       "   Unnamed: 0      id  Gender      Customer Type  Age   Type of Travel  \\\n",
       "0           0   70172    Male     Loyal Customer   13  Personal Travel   \n",
       "1           1    5047    Male  disloyal Customer   25  Business travel   \n",
       "2           2  110028  Female     Loyal Customer   26  Business travel   \n",
       "3           3   24026  Female     Loyal Customer   25  Business travel   \n",
       "4           4  119299    Male     Loyal Customer   61  Business travel   \n",
       "\n",
       "      Class  Flight Distance  Inflight wifi service  \\\n",
       "0  Eco Plus              460                      3   \n",
       "1  Business              235                      3   \n",
       "2  Business             1142                      2   \n",
       "3  Business              562                      2   \n",
       "4  Business              214                      3   \n",
       "\n",
       "   Departure/Arrival time convenient  Ease of Online booking  Gate location  \\\n",
       "0                                  4                       3              1   \n",
       "1                                  2                       3              3   \n",
       "2                                  2                       2              2   \n",
       "3                                  5                       5              5   \n",
       "4                                  3                       3              3   \n",
       "\n",
       "   Food and drink  Online boarding  Seat comfort  Inflight entertainment  \\\n",
       "0               5                3             5                       5   \n",
       "1               1                3             1                       1   \n",
       "2               5                5             5                       5   \n",
       "3               2                2             2                       2   \n",
       "4               4                5             5                       3   \n",
       "\n",
       "   On-board service  Leg room service  Baggage handling  Checkin service  \\\n",
       "0                 4                 3                 4                4   \n",
       "1                 1                 5                 3                1   \n",
       "2                 4                 3                 4                4   \n",
       "3                 2                 5                 3                1   \n",
       "4                 3                 4                 4                3   \n",
       "\n",
       "   Inflight service  Cleanliness  Departure Delay in Minutes  \\\n",
       "0                 5            5                          25   \n",
       "1                 4            1                           1   \n",
       "2                 4            5                           0   \n",
       "3                 4            2                          11   \n",
       "4                 3            3                           0   \n",
       "\n",
       "   Arrival Delay in Minutes             satisfaction  \n",
       "0                      18.0  neutral or dissatisfied  \n",
       "1                       6.0  neutral or dissatisfied  \n",
       "2                       0.0                satisfied  \n",
       "3                       9.0  neutral or dissatisfied  \n",
       "4                       0.0                satisfied  "
      ]
     },
     "execution_count": 2,
     "metadata": {},
     "output_type": "execute_result"
    }
   ],
   "source": [
    "train=pd.read_csv(r\"C:\\Users\\hp\\Downloads\\archive (9)\\train.csv\")\n",
    "test=pd.read_csv(r\"C:\\Users\\hp\\Downloads\\archive (9)\\test.csv\")\n",
    "df=pd.concat([train,test],ignore_index=True)\n",
    "df.head()"
   ]
  },
  {
   "cell_type": "code",
   "execution_count": 3,
   "metadata": {},
   "outputs": [],
   "source": [
    "df.drop(columns=['Unnamed: 0','id'],inplace=True)"
   ]
  },
  {
   "cell_type": "code",
   "execution_count": 4,
   "metadata": {},
   "outputs": [
    {
     "data": {
      "text/html": [
       "<div>\n",
       "<style scoped>\n",
       "    .dataframe tbody tr th:only-of-type {\n",
       "        vertical-align: middle;\n",
       "    }\n",
       "\n",
       "    .dataframe tbody tr th {\n",
       "        vertical-align: top;\n",
       "    }\n",
       "\n",
       "    .dataframe thead th {\n",
       "        text-align: right;\n",
       "    }\n",
       "</style>\n",
       "<table border=\"1\" class=\"dataframe\">\n",
       "  <thead>\n",
       "    <tr style=\"text-align: right;\">\n",
       "      <th></th>\n",
       "      <th>Gender</th>\n",
       "      <th>Customer Type</th>\n",
       "      <th>Age</th>\n",
       "      <th>Type of Travel</th>\n",
       "      <th>Class</th>\n",
       "      <th>Flight Distance</th>\n",
       "      <th>Inflight wifi service</th>\n",
       "      <th>Departure/Arrival time convenient</th>\n",
       "      <th>Ease of Online booking</th>\n",
       "      <th>Gate location</th>\n",
       "      <th>Food and drink</th>\n",
       "      <th>Online boarding</th>\n",
       "      <th>Seat comfort</th>\n",
       "      <th>Inflight entertainment</th>\n",
       "      <th>On-board service</th>\n",
       "      <th>Leg room service</th>\n",
       "      <th>Baggage handling</th>\n",
       "      <th>Checkin service</th>\n",
       "      <th>Inflight service</th>\n",
       "      <th>Cleanliness</th>\n",
       "      <th>Departure Delay in Minutes</th>\n",
       "      <th>Arrival Delay in Minutes</th>\n",
       "      <th>satisfaction</th>\n",
       "    </tr>\n",
       "  </thead>\n",
       "  <tbody>\n",
       "    <tr>\n",
       "      <th>0</th>\n",
       "      <td>Male</td>\n",
       "      <td>Loyal Customer</td>\n",
       "      <td>13</td>\n",
       "      <td>Personal Travel</td>\n",
       "      <td>Eco Plus</td>\n",
       "      <td>460</td>\n",
       "      <td>3</td>\n",
       "      <td>4</td>\n",
       "      <td>3</td>\n",
       "      <td>1</td>\n",
       "      <td>5</td>\n",
       "      <td>3</td>\n",
       "      <td>5</td>\n",
       "      <td>5</td>\n",
       "      <td>4</td>\n",
       "      <td>3</td>\n",
       "      <td>4</td>\n",
       "      <td>4</td>\n",
       "      <td>5</td>\n",
       "      <td>5</td>\n",
       "      <td>25</td>\n",
       "      <td>18.0</td>\n",
       "      <td>neutral or dissatisfied</td>\n",
       "    </tr>\n",
       "    <tr>\n",
       "      <th>1</th>\n",
       "      <td>Male</td>\n",
       "      <td>disloyal Customer</td>\n",
       "      <td>25</td>\n",
       "      <td>Business travel</td>\n",
       "      <td>Business</td>\n",
       "      <td>235</td>\n",
       "      <td>3</td>\n",
       "      <td>2</td>\n",
       "      <td>3</td>\n",
       "      <td>3</td>\n",
       "      <td>1</td>\n",
       "      <td>3</td>\n",
       "      <td>1</td>\n",
       "      <td>1</td>\n",
       "      <td>1</td>\n",
       "      <td>5</td>\n",
       "      <td>3</td>\n",
       "      <td>1</td>\n",
       "      <td>4</td>\n",
       "      <td>1</td>\n",
       "      <td>1</td>\n",
       "      <td>6.0</td>\n",
       "      <td>neutral or dissatisfied</td>\n",
       "    </tr>\n",
       "    <tr>\n",
       "      <th>2</th>\n",
       "      <td>Female</td>\n",
       "      <td>Loyal Customer</td>\n",
       "      <td>26</td>\n",
       "      <td>Business travel</td>\n",
       "      <td>Business</td>\n",
       "      <td>1142</td>\n",
       "      <td>2</td>\n",
       "      <td>2</td>\n",
       "      <td>2</td>\n",
       "      <td>2</td>\n",
       "      <td>5</td>\n",
       "      <td>5</td>\n",
       "      <td>5</td>\n",
       "      <td>5</td>\n",
       "      <td>4</td>\n",
       "      <td>3</td>\n",
       "      <td>4</td>\n",
       "      <td>4</td>\n",
       "      <td>4</td>\n",
       "      <td>5</td>\n",
       "      <td>0</td>\n",
       "      <td>0.0</td>\n",
       "      <td>satisfied</td>\n",
       "    </tr>\n",
       "    <tr>\n",
       "      <th>3</th>\n",
       "      <td>Female</td>\n",
       "      <td>Loyal Customer</td>\n",
       "      <td>25</td>\n",
       "      <td>Business travel</td>\n",
       "      <td>Business</td>\n",
       "      <td>562</td>\n",
       "      <td>2</td>\n",
       "      <td>5</td>\n",
       "      <td>5</td>\n",
       "      <td>5</td>\n",
       "      <td>2</td>\n",
       "      <td>2</td>\n",
       "      <td>2</td>\n",
       "      <td>2</td>\n",
       "      <td>2</td>\n",
       "      <td>5</td>\n",
       "      <td>3</td>\n",
       "      <td>1</td>\n",
       "      <td>4</td>\n",
       "      <td>2</td>\n",
       "      <td>11</td>\n",
       "      <td>9.0</td>\n",
       "      <td>neutral or dissatisfied</td>\n",
       "    </tr>\n",
       "    <tr>\n",
       "      <th>4</th>\n",
       "      <td>Male</td>\n",
       "      <td>Loyal Customer</td>\n",
       "      <td>61</td>\n",
       "      <td>Business travel</td>\n",
       "      <td>Business</td>\n",
       "      <td>214</td>\n",
       "      <td>3</td>\n",
       "      <td>3</td>\n",
       "      <td>3</td>\n",
       "      <td>3</td>\n",
       "      <td>4</td>\n",
       "      <td>5</td>\n",
       "      <td>5</td>\n",
       "      <td>3</td>\n",
       "      <td>3</td>\n",
       "      <td>4</td>\n",
       "      <td>4</td>\n",
       "      <td>3</td>\n",
       "      <td>3</td>\n",
       "      <td>3</td>\n",
       "      <td>0</td>\n",
       "      <td>0.0</td>\n",
       "      <td>satisfied</td>\n",
       "    </tr>\n",
       "  </tbody>\n",
       "</table>\n",
       "</div>"
      ],
      "text/plain": [
       "   Gender      Customer Type  Age   Type of Travel     Class  Flight Distance  \\\n",
       "0    Male     Loyal Customer   13  Personal Travel  Eco Plus              460   \n",
       "1    Male  disloyal Customer   25  Business travel  Business              235   \n",
       "2  Female     Loyal Customer   26  Business travel  Business             1142   \n",
       "3  Female     Loyal Customer   25  Business travel  Business              562   \n",
       "4    Male     Loyal Customer   61  Business travel  Business              214   \n",
       "\n",
       "   Inflight wifi service  Departure/Arrival time convenient  \\\n",
       "0                      3                                  4   \n",
       "1                      3                                  2   \n",
       "2                      2                                  2   \n",
       "3                      2                                  5   \n",
       "4                      3                                  3   \n",
       "\n",
       "   Ease of Online booking  Gate location  Food and drink  Online boarding  \\\n",
       "0                       3              1               5                3   \n",
       "1                       3              3               1                3   \n",
       "2                       2              2               5                5   \n",
       "3                       5              5               2                2   \n",
       "4                       3              3               4                5   \n",
       "\n",
       "   Seat comfort  Inflight entertainment  On-board service  Leg room service  \\\n",
       "0             5                       5                 4                 3   \n",
       "1             1                       1                 1                 5   \n",
       "2             5                       5                 4                 3   \n",
       "3             2                       2                 2                 5   \n",
       "4             5                       3                 3                 4   \n",
       "\n",
       "   Baggage handling  Checkin service  Inflight service  Cleanliness  \\\n",
       "0                 4                4                 5            5   \n",
       "1                 3                1                 4            1   \n",
       "2                 4                4                 4            5   \n",
       "3                 3                1                 4            2   \n",
       "4                 4                3                 3            3   \n",
       "\n",
       "   Departure Delay in Minutes  Arrival Delay in Minutes  \\\n",
       "0                          25                      18.0   \n",
       "1                           1                       6.0   \n",
       "2                           0                       0.0   \n",
       "3                          11                       9.0   \n",
       "4                           0                       0.0   \n",
       "\n",
       "              satisfaction  \n",
       "0  neutral or dissatisfied  \n",
       "1  neutral or dissatisfied  \n",
       "2                satisfied  \n",
       "3  neutral or dissatisfied  \n",
       "4                satisfied  "
      ]
     },
     "execution_count": 4,
     "metadata": {},
     "output_type": "execute_result"
    }
   ],
   "source": [
    "df.head()"
   ]
  },
  {
   "cell_type": "code",
   "execution_count": 5,
   "metadata": {},
   "outputs": [
    {
     "name": "stdout",
     "output_type": "stream",
     "text": [
      "No. of Rows 129880\n",
      "No. of Variables 23\n",
      "\n",
      "Number Columns: ['Age' 'Flight Distance' 'Inflight wifi service'\n",
      " 'Departure/Arrival time convenient' 'Ease of Online booking'\n",
      " 'Gate location' 'Food and drink' 'Online boarding' 'Seat comfort'\n",
      " 'Inflight entertainment' 'On-board service' 'Leg room service'\n",
      " 'Baggage handling' 'Checkin service' 'Inflight service' 'Cleanliness'\n",
      " 'Departure Delay in Minutes' 'Arrival Delay in Minutes']\n",
      "\n",
      "Categorical Columns: ['Gender' 'Customer Type' 'Type of Travel' 'Class' 'satisfaction']\n"
     ]
    }
   ],
   "source": [
    "print('No. of Rows',df.shape[0])\n",
    "print('No. of Variables',df.shape[1])\n",
    "print()\n",
    "print(\"Number Columns:\",df.select_dtypes(np.number).columns.values)\n",
    "print()\n",
    "print(\"Categorical Columns:\",df.select_dtypes('object').columns.values)"
   ]
  },
  {
   "cell_type": "code",
   "execution_count": 6,
   "metadata": {},
   "outputs": [
    {
     "data": {
      "text/html": [
       "<div>\n",
       "<style scoped>\n",
       "    .dataframe tbody tr th:only-of-type {\n",
       "        vertical-align: middle;\n",
       "    }\n",
       "\n",
       "    .dataframe tbody tr th {\n",
       "        vertical-align: top;\n",
       "    }\n",
       "\n",
       "    .dataframe thead th {\n",
       "        text-align: right;\n",
       "    }\n",
       "</style>\n",
       "<table border=\"1\" class=\"dataframe\">\n",
       "  <thead>\n",
       "    <tr style=\"text-align: right;\">\n",
       "      <th></th>\n",
       "      <th>count</th>\n",
       "      <th>mean</th>\n",
       "      <th>std</th>\n",
       "      <th>min</th>\n",
       "      <th>25%</th>\n",
       "      <th>50%</th>\n",
       "      <th>75%</th>\n",
       "      <th>max</th>\n",
       "    </tr>\n",
       "  </thead>\n",
       "  <tbody>\n",
       "    <tr>\n",
       "      <th>Age</th>\n",
       "      <td>129880.0</td>\n",
       "      <td>39.427957</td>\n",
       "      <td>15.119360</td>\n",
       "      <td>7.0</td>\n",
       "      <td>27.0</td>\n",
       "      <td>40.0</td>\n",
       "      <td>51.0</td>\n",
       "      <td>85.0</td>\n",
       "    </tr>\n",
       "    <tr>\n",
       "      <th>Flight Distance</th>\n",
       "      <td>129880.0</td>\n",
       "      <td>1190.316392</td>\n",
       "      <td>997.452477</td>\n",
       "      <td>31.0</td>\n",
       "      <td>414.0</td>\n",
       "      <td>844.0</td>\n",
       "      <td>1744.0</td>\n",
       "      <td>4983.0</td>\n",
       "    </tr>\n",
       "    <tr>\n",
       "      <th>Inflight wifi service</th>\n",
       "      <td>129880.0</td>\n",
       "      <td>2.728696</td>\n",
       "      <td>1.329340</td>\n",
       "      <td>0.0</td>\n",
       "      <td>2.0</td>\n",
       "      <td>3.0</td>\n",
       "      <td>4.0</td>\n",
       "      <td>5.0</td>\n",
       "    </tr>\n",
       "    <tr>\n",
       "      <th>Departure/Arrival time convenient</th>\n",
       "      <td>129880.0</td>\n",
       "      <td>3.057599</td>\n",
       "      <td>1.526741</td>\n",
       "      <td>0.0</td>\n",
       "      <td>2.0</td>\n",
       "      <td>3.0</td>\n",
       "      <td>4.0</td>\n",
       "      <td>5.0</td>\n",
       "    </tr>\n",
       "    <tr>\n",
       "      <th>Ease of Online booking</th>\n",
       "      <td>129880.0</td>\n",
       "      <td>2.756876</td>\n",
       "      <td>1.401740</td>\n",
       "      <td>0.0</td>\n",
       "      <td>2.0</td>\n",
       "      <td>3.0</td>\n",
       "      <td>4.0</td>\n",
       "      <td>5.0</td>\n",
       "    </tr>\n",
       "    <tr>\n",
       "      <th>Gate location</th>\n",
       "      <td>129880.0</td>\n",
       "      <td>2.976925</td>\n",
       "      <td>1.278520</td>\n",
       "      <td>0.0</td>\n",
       "      <td>2.0</td>\n",
       "      <td>3.0</td>\n",
       "      <td>4.0</td>\n",
       "      <td>5.0</td>\n",
       "    </tr>\n",
       "    <tr>\n",
       "      <th>Food and drink</th>\n",
       "      <td>129880.0</td>\n",
       "      <td>3.204774</td>\n",
       "      <td>1.329933</td>\n",
       "      <td>0.0</td>\n",
       "      <td>2.0</td>\n",
       "      <td>3.0</td>\n",
       "      <td>4.0</td>\n",
       "      <td>5.0</td>\n",
       "    </tr>\n",
       "    <tr>\n",
       "      <th>Online boarding</th>\n",
       "      <td>129880.0</td>\n",
       "      <td>3.252633</td>\n",
       "      <td>1.350719</td>\n",
       "      <td>0.0</td>\n",
       "      <td>2.0</td>\n",
       "      <td>3.0</td>\n",
       "      <td>4.0</td>\n",
       "      <td>5.0</td>\n",
       "    </tr>\n",
       "    <tr>\n",
       "      <th>Seat comfort</th>\n",
       "      <td>129880.0</td>\n",
       "      <td>3.441361</td>\n",
       "      <td>1.319289</td>\n",
       "      <td>0.0</td>\n",
       "      <td>2.0</td>\n",
       "      <td>4.0</td>\n",
       "      <td>5.0</td>\n",
       "      <td>5.0</td>\n",
       "    </tr>\n",
       "    <tr>\n",
       "      <th>Inflight entertainment</th>\n",
       "      <td>129880.0</td>\n",
       "      <td>3.358077</td>\n",
       "      <td>1.334049</td>\n",
       "      <td>0.0</td>\n",
       "      <td>2.0</td>\n",
       "      <td>4.0</td>\n",
       "      <td>4.0</td>\n",
       "      <td>5.0</td>\n",
       "    </tr>\n",
       "    <tr>\n",
       "      <th>On-board service</th>\n",
       "      <td>129880.0</td>\n",
       "      <td>3.383023</td>\n",
       "      <td>1.287099</td>\n",
       "      <td>0.0</td>\n",
       "      <td>2.0</td>\n",
       "      <td>4.0</td>\n",
       "      <td>4.0</td>\n",
       "      <td>5.0</td>\n",
       "    </tr>\n",
       "    <tr>\n",
       "      <th>Leg room service</th>\n",
       "      <td>129880.0</td>\n",
       "      <td>3.350878</td>\n",
       "      <td>1.316252</td>\n",
       "      <td>0.0</td>\n",
       "      <td>2.0</td>\n",
       "      <td>4.0</td>\n",
       "      <td>4.0</td>\n",
       "      <td>5.0</td>\n",
       "    </tr>\n",
       "    <tr>\n",
       "      <th>Baggage handling</th>\n",
       "      <td>129880.0</td>\n",
       "      <td>3.632114</td>\n",
       "      <td>1.180025</td>\n",
       "      <td>1.0</td>\n",
       "      <td>3.0</td>\n",
       "      <td>4.0</td>\n",
       "      <td>5.0</td>\n",
       "      <td>5.0</td>\n",
       "    </tr>\n",
       "    <tr>\n",
       "      <th>Checkin service</th>\n",
       "      <td>129880.0</td>\n",
       "      <td>3.306267</td>\n",
       "      <td>1.266185</td>\n",
       "      <td>0.0</td>\n",
       "      <td>3.0</td>\n",
       "      <td>3.0</td>\n",
       "      <td>4.0</td>\n",
       "      <td>5.0</td>\n",
       "    </tr>\n",
       "    <tr>\n",
       "      <th>Inflight service</th>\n",
       "      <td>129880.0</td>\n",
       "      <td>3.642193</td>\n",
       "      <td>1.176669</td>\n",
       "      <td>0.0</td>\n",
       "      <td>3.0</td>\n",
       "      <td>4.0</td>\n",
       "      <td>5.0</td>\n",
       "      <td>5.0</td>\n",
       "    </tr>\n",
       "    <tr>\n",
       "      <th>Cleanliness</th>\n",
       "      <td>129880.0</td>\n",
       "      <td>3.286326</td>\n",
       "      <td>1.313682</td>\n",
       "      <td>0.0</td>\n",
       "      <td>2.0</td>\n",
       "      <td>3.0</td>\n",
       "      <td>4.0</td>\n",
       "      <td>5.0</td>\n",
       "    </tr>\n",
       "    <tr>\n",
       "      <th>Departure Delay in Minutes</th>\n",
       "      <td>129880.0</td>\n",
       "      <td>14.713713</td>\n",
       "      <td>38.071126</td>\n",
       "      <td>0.0</td>\n",
       "      <td>0.0</td>\n",
       "      <td>0.0</td>\n",
       "      <td>12.0</td>\n",
       "      <td>1592.0</td>\n",
       "    </tr>\n",
       "    <tr>\n",
       "      <th>Arrival Delay in Minutes</th>\n",
       "      <td>129487.0</td>\n",
       "      <td>15.091129</td>\n",
       "      <td>38.465650</td>\n",
       "      <td>0.0</td>\n",
       "      <td>0.0</td>\n",
       "      <td>0.0</td>\n",
       "      <td>13.0</td>\n",
       "      <td>1584.0</td>\n",
       "    </tr>\n",
       "  </tbody>\n",
       "</table>\n",
       "</div>"
      ],
      "text/plain": [
       "                                      count         mean         std   min  \\\n",
       "Age                                129880.0    39.427957   15.119360   7.0   \n",
       "Flight Distance                    129880.0  1190.316392  997.452477  31.0   \n",
       "Inflight wifi service              129880.0     2.728696    1.329340   0.0   \n",
       "Departure/Arrival time convenient  129880.0     3.057599    1.526741   0.0   \n",
       "Ease of Online booking             129880.0     2.756876    1.401740   0.0   \n",
       "Gate location                      129880.0     2.976925    1.278520   0.0   \n",
       "Food and drink                     129880.0     3.204774    1.329933   0.0   \n",
       "Online boarding                    129880.0     3.252633    1.350719   0.0   \n",
       "Seat comfort                       129880.0     3.441361    1.319289   0.0   \n",
       "Inflight entertainment             129880.0     3.358077    1.334049   0.0   \n",
       "On-board service                   129880.0     3.383023    1.287099   0.0   \n",
       "Leg room service                   129880.0     3.350878    1.316252   0.0   \n",
       "Baggage handling                   129880.0     3.632114    1.180025   1.0   \n",
       "Checkin service                    129880.0     3.306267    1.266185   0.0   \n",
       "Inflight service                   129880.0     3.642193    1.176669   0.0   \n",
       "Cleanliness                        129880.0     3.286326    1.313682   0.0   \n",
       "Departure Delay in Minutes         129880.0    14.713713   38.071126   0.0   \n",
       "Arrival Delay in Minutes           129487.0    15.091129   38.465650   0.0   \n",
       "\n",
       "                                     25%    50%     75%     max  \n",
       "Age                                 27.0   40.0    51.0    85.0  \n",
       "Flight Distance                    414.0  844.0  1744.0  4983.0  \n",
       "Inflight wifi service                2.0    3.0     4.0     5.0  \n",
       "Departure/Arrival time convenient    2.0    3.0     4.0     5.0  \n",
       "Ease of Online booking               2.0    3.0     4.0     5.0  \n",
       "Gate location                        2.0    3.0     4.0     5.0  \n",
       "Food and drink                       2.0    3.0     4.0     5.0  \n",
       "Online boarding                      2.0    3.0     4.0     5.0  \n",
       "Seat comfort                         2.0    4.0     5.0     5.0  \n",
       "Inflight entertainment               2.0    4.0     4.0     5.0  \n",
       "On-board service                     2.0    4.0     4.0     5.0  \n",
       "Leg room service                     2.0    4.0     4.0     5.0  \n",
       "Baggage handling                     3.0    4.0     5.0     5.0  \n",
       "Checkin service                      3.0    3.0     4.0     5.0  \n",
       "Inflight service                     3.0    4.0     5.0     5.0  \n",
       "Cleanliness                          2.0    3.0     4.0     5.0  \n",
       "Departure Delay in Minutes           0.0    0.0    12.0  1592.0  \n",
       "Arrival Delay in Minutes             0.0    0.0    13.0  1584.0  "
      ]
     },
     "execution_count": 6,
     "metadata": {},
     "output_type": "execute_result"
    }
   ],
   "source": [
    "df.describe().T"
   ]
  },
  {
   "cell_type": "code",
   "execution_count": 7,
   "metadata": {
    "scrolled": false
   },
   "outputs": [
    {
     "name": "stdout",
     "output_type": "stream",
     "text": [
      "Gender\n",
      "Female    50.738374\n",
      "Male      49.261626\n",
      "Name: Gender, dtype: float64\n",
      "*******************\n",
      "Customer Type\n",
      "Loyal Customer       81.690791\n",
      "disloyal Customer    18.309209\n",
      "Name: Customer Type, dtype: float64\n",
      "*******************\n",
      "Type of Travel\n",
      "Business travel    69.058362\n",
      "Personal Travel    30.941638\n",
      "Name: Type of Travel, dtype: float64\n",
      "*******************\n",
      "Class\n",
      "Business    47.859563\n",
      "Eco         44.894518\n",
      "Eco Plus     7.245919\n",
      "Name: Class, dtype: float64\n",
      "*******************\n",
      "satisfaction\n",
      "neutral or dissatisfied    56.553742\n",
      "satisfied                  43.446258\n",
      "Name: satisfaction, dtype: float64\n",
      "*******************\n"
     ]
    }
   ],
   "source": [
    "cat_cols=['Gender','Customer Type','Type of Travel','Class','satisfaction']\n",
    "for i in cat_cols:\n",
    "    print(i)\n",
    "    print(df[i].value_counts()*100/len(df),end='\\n*******************\\n')"
   ]
  },
  {
   "cell_type": "code",
   "execution_count": 8,
   "metadata": {},
   "outputs": [
    {
     "data": {
      "text/plain": [
       "Gender                                object\n",
       "Customer Type                         object\n",
       "Age                                    int64\n",
       "Type of Travel                        object\n",
       "Class                                 object\n",
       "Flight Distance                        int64\n",
       "Inflight wifi service                  int64\n",
       "Departure/Arrival time convenient      int64\n",
       "Ease of Online booking                 int64\n",
       "Gate location                          int64\n",
       "Food and drink                         int64\n",
       "Online boarding                        int64\n",
       "Seat comfort                           int64\n",
       "Inflight entertainment                 int64\n",
       "On-board service                       int64\n",
       "Leg room service                       int64\n",
       "Baggage handling                       int64\n",
       "Checkin service                        int64\n",
       "Inflight service                       int64\n",
       "Cleanliness                            int64\n",
       "Departure Delay in Minutes             int64\n",
       "Arrival Delay in Minutes             float64\n",
       "satisfaction                          object\n",
       "dtype: object"
      ]
     },
     "execution_count": 8,
     "metadata": {},
     "output_type": "execute_result"
    }
   ],
   "source": [
    "#Check Data Types\n",
    "df.dtypes"
   ]
  },
  {
   "cell_type": "code",
   "execution_count": 9,
   "metadata": {},
   "outputs": [],
   "source": [
    "#These are satisfaction levels so these columns should be categorical\n",
    "cols=['Inflight wifi service','Departure/Arrival time convenient','Ease of Online booking','Gate location','Food and drink',\n",
    "      'Online boarding','Seat comfort','Inflight entertainment','On-board service','Leg room service','Baggage handling',\n",
    "      'Checkin service','Inflight service','Cleanliness']"
   ]
  },
  {
   "cell_type": "code",
   "execution_count": 10,
   "metadata": {},
   "outputs": [],
   "source": [
    "for i in cols:\n",
    "    df[i]=df[i].astype('object')"
   ]
  },
  {
   "cell_type": "code",
   "execution_count": 11,
   "metadata": {
    "scrolled": false
   },
   "outputs": [
    {
     "data": {
      "text/plain": [
       "Gender                                 0\n",
       "Customer Type                          0\n",
       "Age                                    0\n",
       "Type of Travel                         0\n",
       "Class                                  0\n",
       "Flight Distance                        0\n",
       "Inflight wifi service                  0\n",
       "Departure/Arrival time convenient      0\n",
       "Ease of Online booking                 0\n",
       "Gate location                          0\n",
       "Food and drink                         0\n",
       "Online boarding                        0\n",
       "Seat comfort                           0\n",
       "Inflight entertainment                 0\n",
       "On-board service                       0\n",
       "Leg room service                       0\n",
       "Baggage handling                       0\n",
       "Checkin service                        0\n",
       "Inflight service                       0\n",
       "Cleanliness                            0\n",
       "Departure Delay in Minutes             0\n",
       "Arrival Delay in Minutes             393\n",
       "satisfaction                           0\n",
       "dtype: int64"
      ]
     },
     "execution_count": 11,
     "metadata": {},
     "output_type": "execute_result"
    }
   ],
   "source": [
    "#a) #There are missing values in 'Arrival Delay in Minutes'\n",
    "df.isnull().sum()"
   ]
  },
  {
   "cell_type": "code",
   "execution_count": 12,
   "metadata": {},
   "outputs": [],
   "source": [
    "# Missing Value Treatment- impute it with 'median'\n",
    "df['Arrival Delay in Minutes'].fillna(df['Arrival Delay in Minutes'].median(),inplace=True)"
   ]
  },
  {
   "cell_type": "code",
   "execution_count": 13,
   "metadata": {},
   "outputs": [],
   "source": [
    "num_cols=df.select_dtypes(np.number).columns.values\n",
    "cat_cols=df.select_dtypes('object').columns.values"
   ]
  },
  {
   "cell_type": "code",
   "execution_count": 14,
   "metadata": {
    "scrolled": false
   },
   "outputs": [
    {
     "data": {
      "image/png": "[encoded data removed]",
      "text/plain": [
       "<Figure size 1080x1080 with 4 Axes>"
      ]
     },
     "metadata": {
      "needs_background": "light"
     },
     "output_type": "display_data"
    }
   ],
   "source": [
    "#b) #There are outliers in Flight Distance, Departure Delay in Minutes, Arrival Delay in Minutes,Checkin Service \n",
    "plt.figure(figsize=(15,15))\n",
    "t=1\n",
    "for col in num_cols:\n",
    "    plt.subplot(4,2,t)\n",
    "    sns.boxplot(df[col])\n",
    "    t+=1\n",
    "    plt.title(col)\n",
    "plt.tight_layout()"
   ]
  },
  {
   "cell_type": "code",
   "execution_count": 15,
   "metadata": {},
   "outputs": [],
   "source": [
    "# IQR\n",
    "for i in ['Flight Distance','Departure Delay in Minutes','Arrival Delay in Minutes']:\n",
    "    q1,q3=np.quantile(df[i],[0.25,0.75])\n",
    "    iqr=q3-q1\n",
    "    ul=q3+1.5*iqr\n",
    "    ll=q1-1.5*iqr\n",
    "    df=df[~((df[i]>ul)|(df[i]<ll))]"
   ]
  },
  {
   "cell_type": "code",
   "execution_count": 16,
   "metadata": {},
   "outputs": [
    {
     "data": {
      "text/plain": [
       "(94256, 23)"
      ]
     },
     "execution_count": 16,
     "metadata": {},
     "output_type": "execute_result"
    }
   ],
   "source": [
    "df.shape"
   ]
  },
  {
   "cell_type": "code",
   "execution_count": 17,
   "metadata": {},
   "outputs": [
    {
     "data": {
      "image/png": "[encoded data removed]",
      "text/plain": [
       "<Figure size 1080x1080 with 4 Axes>"
      ]
     },
     "metadata": {
      "needs_background": "light"
     },
     "output_type": "display_data"
    }
   ],
   "source": [
    "plt.figure(figsize=(15,15))\n",
    "t=1\n",
    "for col in num_cols:\n",
    "    plt.subplot(4,2,t)\n",
    "    sns.boxplot(df[col])\n",
    "    t+=1\n",
    "    plt.title(col)\n",
    "plt.tight_layout()"
   ]
  },
  {
   "cell_type": "code",
   "execution_count": 18,
   "metadata": {
    "scrolled": true
   },
   "outputs": [
    {
     "data": {
      "text/html": [
       "<div>\n",
       "<style scoped>\n",
       "    .dataframe tbody tr th:only-of-type {\n",
       "        vertical-align: middle;\n",
       "    }\n",
       "\n",
       "    .dataframe tbody tr th {\n",
       "        vertical-align: top;\n",
       "    }\n",
       "\n",
       "    .dataframe thead th {\n",
       "        text-align: right;\n",
       "    }\n",
       "</style>\n",
       "<table border=\"1\" class=\"dataframe\">\n",
       "  <thead>\n",
       "    <tr style=\"text-align: right;\">\n",
       "      <th></th>\n",
       "      <th>satisfaction</th>\n",
       "      <th>Percentage</th>\n",
       "    </tr>\n",
       "  </thead>\n",
       "  <tbody>\n",
       "    <tr>\n",
       "      <th>neutral or dissatisfied</th>\n",
       "      <td>51570</td>\n",
       "      <td>54.712697</td>\n",
       "    </tr>\n",
       "    <tr>\n",
       "      <th>satisfied</th>\n",
       "      <td>42686</td>\n",
       "      <td>45.287303</td>\n",
       "    </tr>\n",
       "  </tbody>\n",
       "</table>\n",
       "</div>"
      ],
      "text/plain": [
       "                         satisfaction  Percentage\n",
       "neutral or dissatisfied         51570   54.712697\n",
       "satisfied                       42686   45.287303"
      ]
     },
     "execution_count": 18,
     "metadata": {},
     "output_type": "execute_result"
    }
   ],
   "source": [
    "Check if the target is distributed evenly.\n",
    "#Is it a defect? If yes, what steps are being taken to rectify the problem?\n",
    "target_dist=df.satisfaction.value_counts().to_frame()\n",
    "target_dist['Percentage']=df.satisfaction.value_counts()*100/len(df)\n",
    "target_dist"
   ]
  },
  {
   "cell_type": "code",
   "execution_count": 19,
   "metadata": {},
   "outputs": [],
   "source": [
    "# We can observe it's only 45-55% imbalance, so it is not much of a problem. \n",
    "# But to avoid problems we can use ADASYN or RandomOverSampler techniques to address class imbalance."
   ]
  },
  {
   "cell_type": "code",
   "execution_count": 20,
   "metadata": {},
   "outputs": [],
   "source": [
    "from imblearn.over_sampling import RandomOverSampler,ADASYN"
   ]
  },
  {
   "cell_type": "code",
   "execution_count": 21,
   "metadata": {},
   "outputs": [],
   "source": [
    "X=df.drop(columns='satisfaction')\n",
    "y=df['satisfaction']\n",
    "rs = RandomOverSampler(random_state=42)\n",
    "X_resampled, y_resampled = rs.fit_resample(X, y)"
   ]
  },
  {
   "cell_type": "code",
   "execution_count": 22,
   "metadata": {},
   "outputs": [
    {
     "data": {
      "text/plain": [
       "neutral or dissatisfied    51570\n",
       "satisfied                  51570\n",
       "Name: satisfaction, dtype: int64"
      ]
     },
     "execution_count": 22,
     "metadata": {},
     "output_type": "execute_result"
    }
   ],
   "source": [
    "y_resampled.value_counts() #balanced"
   ]
  },
  {
   "cell_type": "code",
   "execution_count": 23,
   "metadata": {},
   "outputs": [
    {
     "data": {
      "image/png": "[encoded data removed]",
      "text/plain": [
       "<Figure size 936x1080 with 19 Axes>"
      ]
     },
     "metadata": {
      "needs_background": "light"
     },
     "output_type": "display_data"
    }
   ],
   "source": [
    "#a)\n",
    "plt.figure(figsize=(13,15))\n",
    "t=1\n",
    "for col in cat_cols:\n",
    "    plt.subplot(6,4,t)\n",
    "    sns.countplot(df[col])\n",
    "    t+=1\n",
    "plt.tight_layout()"
   ]
  },
  {
   "cell_type": "markdown",
   "metadata": {},
   "source": [
    "#### Inferences:\n",
    "* We have more 'Loyal Customers'.\n",
    "* Major categories have rating 4.\n",
    "* Inclass wifi service, food and drink, Ease of online booking services should be improved."
   ]
  },
  {
   "cell_type": "code",
   "execution_count": 25,
   "metadata": {
    "scrolled": false
   },
   "outputs": [
    {
     "data": {
      "image/png": "[encoded data removed]",
      "text/plain": [
       "<Figure size 1440x1800 with 18 Axes>"
      ]
     },
     "metadata": {
      "needs_background": "light"
     },
     "output_type": "display_data"
    }
   ],
   "source": [
    "plt.figure(figsize=(20,25))\n",
    "t=1\n",
    "for col in cat_cols[:-1]:\n",
    "    plt.subplot(6,4,t)\n",
    "    pd.crosstab(df['satisfaction'],df[col]).plot(kind='bar',ax=plt.gca())\n",
    "    t+=1\n",
    "plt.tight_layout()\n",
    "plt.show()"
   ]
  },
  {
   "cell_type": "markdown",
   "metadata": {},
   "source": [
    "#### Inference\n",
    "* People travelling in 'Business' are satisfied and people travelling in 'Eco' are neutral or dissatisfied."
   ]
  },
  {
   "cell_type": "code",
   "execution_count": 27,
   "metadata": {},
   "outputs": [
    {
     "data": {
      "image/png": "[encoded data removed]",
      "text/plain": [
       "<Figure size 864x288 with 4 Axes>"
      ]
     },
     "metadata": {
      "needs_background": "light"
     },
     "output_type": "display_data"
    }
   ],
   "source": [
    "plt.figure(figsize=(12,4))\n",
    "t=1\n",
    "for col in num_cols:\n",
    "    plt.subplot(1,4,t)\n",
    "    sns.boxplot(df['satisfaction'],df[col])\n",
    "    t+=1\n",
    "plt.tight_layout()"
   ]
  },
  {
   "cell_type": "code",
   "execution_count": 28,
   "metadata": {},
   "outputs": [
    {
     "name": "stdout",
     "output_type": "stream",
     "text": [
      "Target and Gender are related\n",
      "Target and Customer Type are related\n",
      "Target and Type of Travel are related\n",
      "Target and Class are related\n",
      "Target and Inflight wifi service are related\n",
      "Target and Departure/Arrival time convenient are related\n",
      "Target and Ease of Online booking are related\n",
      "Target and Gate location are related\n",
      "Target and Food and drink are related\n",
      "Target and Online boarding are related\n",
      "Target and Seat comfort are related\n",
      "Target and Inflight entertainment are related\n",
      "Target and On-board service are related\n",
      "Target and Leg room service are related\n",
      "Target and Baggage handling are related\n",
      "Target and Checkin service are related\n",
      "Target and Inflight service are related\n",
      "Target and Cleanliness are related\n",
      "Target and satisfaction are related\n"
     ]
    }
   ],
   "source": [
    "# Test to check the the relationship of Target with Categorical columns (Category vs Category)- Chi-Square\n",
    "for i in cat_cols:\n",
    "    obs_values=pd.crosstab(df['satisfaction'],df[i]).values\n",
    "    t,pval,dof,exp_values=stats.chi2_contingency(obs_values)\n",
    "    if pval<0.05:\n",
    "        print(f'Target and {i} are related')\n",
    "    else:\n",
    "        print(f'Target and {i} are independent')"
   ]
  },
  {
   "cell_type": "code",
   "execution_count": 29,
   "metadata": {},
   "outputs": [],
   "source": [
    "#to check the dependency of target with number columns: (category vs number)- ANOVA\n",
    "group1 = df[df['satisfaction'] == 'neutral or dissatisfied']\n",
    "group2 = df[df['satisfaction'] == 'satisfied']"
   ]
  },
  {
   "cell_type": "code",
   "execution_count": 30,
   "metadata": {},
   "outputs": [
    {
     "name": "stdout",
     "output_type": "stream",
     "text": [
      "Target and Age are related\n",
      "Target and Flight Distance are related\n",
      "Target and Departure Delay in Minutes are related\n",
      "Target and Arrival Delay in Minutes are related\n"
     ]
    }
   ],
   "source": [
    "for i in num_cols:\n",
    "    fstat, pval = stats.f_oneway(group1[i], group2[i])\n",
    "    if pval<0.05:\n",
    "        print(f'Target and {i} are related')\n",
    "    else:\n",
    "        print(f'Target and {i} are independent')"
   ]
  },
  {
   "cell_type": "code",
   "execution_count": 31,
   "metadata": {},
   "outputs": [],
   "source": [
    "#Encoding the categorical Variables"
   ]
  },
  {
   "cell_type": "code",
   "execution_count": 32,
   "metadata": {},
   "outputs": [
    {
     "data": {
      "text/html": [
       "<div>\n",
       "<style scoped>\n",
       "    .dataframe tbody tr th:only-of-type {\n",
       "        vertical-align: middle;\n",
       "    }\n",
       "\n",
       "    .dataframe tbody tr th {\n",
       "        vertical-align: top;\n",
       "    }\n",
       "\n",
       "    .dataframe thead th {\n",
       "        text-align: right;\n",
       "    }\n",
       "</style>\n",
       "<table border=\"1\" class=\"dataframe\">\n",
       "  <thead>\n",
       "    <tr style=\"text-align: right;\">\n",
       "      <th></th>\n",
       "      <th>count</th>\n",
       "      <th>unique</th>\n",
       "      <th>top</th>\n",
       "      <th>freq</th>\n",
       "    </tr>\n",
       "  </thead>\n",
       "  <tbody>\n",
       "    <tr>\n",
       "      <th>Gender</th>\n",
       "      <td>94256</td>\n",
       "      <td>2</td>\n",
       "      <td>Female</td>\n",
       "      <td>47781</td>\n",
       "    </tr>\n",
       "    <tr>\n",
       "      <th>Customer Type</th>\n",
       "      <td>94256</td>\n",
       "      <td>2</td>\n",
       "      <td>Loyal Customer</td>\n",
       "      <td>76770</td>\n",
       "    </tr>\n",
       "    <tr>\n",
       "      <th>Type of Travel</th>\n",
       "      <td>94256</td>\n",
       "      <td>2</td>\n",
       "      <td>Business travel</td>\n",
       "      <td>64309</td>\n",
       "    </tr>\n",
       "    <tr>\n",
       "      <th>Class</th>\n",
       "      <td>94256</td>\n",
       "      <td>3</td>\n",
       "      <td>Business</td>\n",
       "      <td>44572</td>\n",
       "    </tr>\n",
       "    <tr>\n",
       "      <th>Inflight wifi service</th>\n",
       "      <td>94256</td>\n",
       "      <td>6</td>\n",
       "      <td>2</td>\n",
       "      <td>23028</td>\n",
       "    </tr>\n",
       "    <tr>\n",
       "      <th>Departure/Arrival time convenient</th>\n",
       "      <td>94256</td>\n",
       "      <td>6</td>\n",
       "      <td>4</td>\n",
       "      <td>23418</td>\n",
       "    </tr>\n",
       "    <tr>\n",
       "      <th>Ease of Online booking</th>\n",
       "      <td>94256</td>\n",
       "      <td>6</td>\n",
       "      <td>3</td>\n",
       "      <td>21917</td>\n",
       "    </tr>\n",
       "    <tr>\n",
       "      <th>Gate location</th>\n",
       "      <td>94256</td>\n",
       "      <td>6</td>\n",
       "      <td>3</td>\n",
       "      <td>25895</td>\n",
       "    </tr>\n",
       "    <tr>\n",
       "      <th>Food and drink</th>\n",
       "      <td>94256</td>\n",
       "      <td>6</td>\n",
       "      <td>4</td>\n",
       "      <td>22519</td>\n",
       "    </tr>\n",
       "    <tr>\n",
       "      <th>Online boarding</th>\n",
       "      <td>94256</td>\n",
       "      <td>6</td>\n",
       "      <td>4</td>\n",
       "      <td>28366</td>\n",
       "    </tr>\n",
       "    <tr>\n",
       "      <th>Seat comfort</th>\n",
       "      <td>94256</td>\n",
       "      <td>5</td>\n",
       "      <td>4</td>\n",
       "      <td>29156</td>\n",
       "    </tr>\n",
       "    <tr>\n",
       "      <th>Inflight entertainment</th>\n",
       "      <td>94256</td>\n",
       "      <td>6</td>\n",
       "      <td>4</td>\n",
       "      <td>27025</td>\n",
       "    </tr>\n",
       "    <tr>\n",
       "      <th>On-board service</th>\n",
       "      <td>94256</td>\n",
       "      <td>6</td>\n",
       "      <td>4</td>\n",
       "      <td>28429</td>\n",
       "    </tr>\n",
       "    <tr>\n",
       "      <th>Leg room service</th>\n",
       "      <td>94256</td>\n",
       "      <td>6</td>\n",
       "      <td>4</td>\n",
       "      <td>25740</td>\n",
       "    </tr>\n",
       "    <tr>\n",
       "      <th>Baggage handling</th>\n",
       "      <td>94256</td>\n",
       "      <td>5</td>\n",
       "      <td>4</td>\n",
       "      <td>33972</td>\n",
       "    </tr>\n",
       "    <tr>\n",
       "      <th>Checkin service</th>\n",
       "      <td>94256</td>\n",
       "      <td>5</td>\n",
       "      <td>4</td>\n",
       "      <td>26443</td>\n",
       "    </tr>\n",
       "    <tr>\n",
       "      <th>Inflight service</th>\n",
       "      <td>94256</td>\n",
       "      <td>6</td>\n",
       "      <td>4</td>\n",
       "      <td>34673</td>\n",
       "    </tr>\n",
       "    <tr>\n",
       "      <th>Cleanliness</th>\n",
       "      <td>94256</td>\n",
       "      <td>6</td>\n",
       "      <td>4</td>\n",
       "      <td>24817</td>\n",
       "    </tr>\n",
       "    <tr>\n",
       "      <th>satisfaction</th>\n",
       "      <td>94256</td>\n",
       "      <td>2</td>\n",
       "      <td>neutral or dissatisfied</td>\n",
       "      <td>51570</td>\n",
       "    </tr>\n",
       "  </tbody>\n",
       "</table>\n",
       "</div>"
      ],
      "text/plain": [
       "                                   count unique                      top  \\\n",
       "Gender                             94256      2                   Female   \n",
       "Customer Type                      94256      2           Loyal Customer   \n",
       "Type of Travel                     94256      2          Business travel   \n",
       "Class                              94256      3                 Business   \n",
       "Inflight wifi service              94256      6                        2   \n",
       "Departure/Arrival time convenient  94256      6                        4   \n",
       "Ease of Online booking             94256      6                        3   \n",
       "Gate location                      94256      6                        3   \n",
       "Food and drink                     94256      6                        4   \n",
       "Online boarding                    94256      6                        4   \n",
       "Seat comfort                       94256      5                        4   \n",
       "Inflight entertainment             94256      6                        4   \n",
       "On-board service                   94256      6                        4   \n",
       "Leg room service                   94256      6                        4   \n",
       "Baggage handling                   94256      5                        4   \n",
       "Checkin service                    94256      5                        4   \n",
       "Inflight service                   94256      6                        4   \n",
       "Cleanliness                        94256      6                        4   \n",
       "satisfaction                       94256      2  neutral or dissatisfied   \n",
       "\n",
       "                                    freq  \n",
       "Gender                             47781  \n",
       "Customer Type                      76770  \n",
       "Type of Travel                     64309  \n",
       "Class                              44572  \n",
       "Inflight wifi service              23028  \n",
       "Departure/Arrival time convenient  23418  \n",
       "Ease of Online booking             21917  \n",
       "Gate location                      25895  \n",
       "Food and drink                     22519  \n",
       "Online boarding                    28366  \n",
       "Seat comfort                       29156  \n",
       "Inflight entertainment             27025  \n",
       "On-board service                   28429  \n",
       "Leg room service                   25740  \n",
       "Baggage handling                   33972  \n",
       "Checkin service                    26443  \n",
       "Inflight service                   34673  \n",
       "Cleanliness                        24817  \n",
       "satisfaction                       51570  "
      ]
     },
     "execution_count": 32,
     "metadata": {},
     "output_type": "execute_result"
    }
   ],
   "source": [
    "df.describe(include='object').T"
   ]
  },
  {
   "cell_type": "code",
   "execution_count": 33,
   "metadata": {},
   "outputs": [],
   "source": [
    "cols=['Inflight wifi service', 'Departure/Arrival time convenient',\n",
    "       'Ease of Online booking', 'Gate location', 'Food and drink',\n",
    "       'Online boarding', 'Seat comfort', 'Inflight entertainment',\n",
    "       'On-board service', 'Leg room service', 'Baggage handling',\n",
    "       'Checkin service', 'Inflight service', 'Cleanliness']"
   ]
  },
  {
   "cell_type": "code",
   "execution_count": 34,
   "metadata": {
    "scrolled": false
   },
   "outputs": [],
   "source": [
    "for i in cols:\n",
    "    f=df[i].value_counts(normalize=True).to_dict()\n",
    "    df[i]=df[i].map(f)"
   ]
  },
  {
   "cell_type": "code",
   "execution_count": 38,
   "metadata": {},
   "outputs": [],
   "source": [
    "#Scaling\n",
    "for i in num_cols:\n",
    "    sc=StandardScaler()\n",
    "    df[i]=sc.fit_transform(pd.DataFrame(df[i]))"
   ]
  },
  {
   "cell_type": "code",
   "execution_count": 39,
   "metadata": {},
   "outputs": [
    {
     "data": {
      "text/html": [
       "<div>\n",
       "<style scoped>\n",
       "    .dataframe tbody tr th:only-of-type {\n",
       "        vertical-align: middle;\n",
       "    }\n",
       "\n",
       "    .dataframe tbody tr th {\n",
       "        vertical-align: top;\n",
       "    }\n",
       "\n",
       "    .dataframe thead th {\n",
       "        text-align: right;\n",
       "    }\n",
       "</style>\n",
       "<table border=\"1\" class=\"dataframe\">\n",
       "  <thead>\n",
       "    <tr style=\"text-align: right;\">\n",
       "      <th></th>\n",
       "      <th>Gender</th>\n",
       "      <th>Customer Type</th>\n",
       "      <th>Age</th>\n",
       "      <th>Type of Travel</th>\n",
       "      <th>Class</th>\n",
       "      <th>Flight Distance</th>\n",
       "      <th>Inflight wifi service</th>\n",
       "      <th>Departure/Arrival time convenient</th>\n",
       "      <th>Ease of Online booking</th>\n",
       "      <th>Gate location</th>\n",
       "      <th>Food and drink</th>\n",
       "      <th>Online boarding</th>\n",
       "      <th>Seat comfort</th>\n",
       "      <th>Inflight entertainment</th>\n",
       "      <th>On-board service</th>\n",
       "      <th>Leg room service</th>\n",
       "      <th>Baggage handling</th>\n",
       "      <th>Checkin service</th>\n",
       "      <th>Inflight service</th>\n",
       "      <th>Cleanliness</th>\n",
       "      <th>Departure Delay in Minutes</th>\n",
       "      <th>Arrival Delay in Minutes</th>\n",
       "      <th>satisfaction</th>\n",
       "    </tr>\n",
       "  </thead>\n",
       "  <tbody>\n",
       "    <tr>\n",
       "      <th>1</th>\n",
       "      <td>Male</td>\n",
       "      <td>disloyal Customer</td>\n",
       "      <td>-0.950874</td>\n",
       "      <td>Business travel</td>\n",
       "      <td>Business</td>\n",
       "      <td>-0.968353</td>\n",
       "      <td>0.242404</td>\n",
       "      <td>0.163226</td>\n",
       "      <td>0.232526</td>\n",
       "      <td>0.274731</td>\n",
       "      <td>0.121573</td>\n",
       "      <td>0.205175</td>\n",
       "      <td>0.115908</td>\n",
       "      <td>0.118889</td>\n",
       "      <td>0.111579</td>\n",
       "      <td>0.241873</td>\n",
       "      <td>0.191669</td>\n",
       "      <td>0.120809</td>\n",
       "      <td>0.367860</td>\n",
       "      <td>0.126899</td>\n",
       "      <td>-0.244932</td>\n",
       "      <td>1.567134</td>\n",
       "      <td>neutral or dissatisfied</td>\n",
       "    </tr>\n",
       "    <tr>\n",
       "      <th>2</th>\n",
       "      <td>Female</td>\n",
       "      <td>Loyal Customer</td>\n",
       "      <td>-0.884977</td>\n",
       "      <td>Business travel</td>\n",
       "      <td>Business</td>\n",
       "      <td>0.010578</td>\n",
       "      <td>0.244313</td>\n",
       "      <td>0.163226</td>\n",
       "      <td>0.229036</td>\n",
       "      <td>0.188115</td>\n",
       "      <td>0.219678</td>\n",
       "      <td>0.204305</td>\n",
       "      <td>0.259156</td>\n",
       "      <td>0.248727</td>\n",
       "      <td>0.301615</td>\n",
       "      <td>0.190990</td>\n",
       "      <td>0.360423</td>\n",
       "      <td>0.280544</td>\n",
       "      <td>0.367860</td>\n",
       "      <td>0.222691</td>\n",
       "      <td>-0.448829</td>\n",
       "      <td>-0.466483</td>\n",
       "      <td>satisfied</td>\n",
       "    </tr>\n",
       "    <tr>\n",
       "      <th>3</th>\n",
       "      <td>Female</td>\n",
       "      <td>Loyal Customer</td>\n",
       "      <td>-0.950874</td>\n",
       "      <td>Business travel</td>\n",
       "      <td>Business</td>\n",
       "      <td>-0.615420</td>\n",
       "      <td>0.244313</td>\n",
       "      <td>0.217249</td>\n",
       "      <td>0.135291</td>\n",
       "      <td>0.133456</td>\n",
       "      <td>0.208241</td>\n",
       "      <td>0.164785</td>\n",
       "      <td>0.139567</td>\n",
       "      <td>0.167130</td>\n",
       "      <td>0.135864</td>\n",
       "      <td>0.241873</td>\n",
       "      <td>0.191669</td>\n",
       "      <td>0.120809</td>\n",
       "      <td>0.367860</td>\n",
       "      <td>0.152234</td>\n",
       "      <td>1.794042</td>\n",
       "      <td>2.583942</td>\n",
       "      <td>neutral or dissatisfied</td>\n",
       "    </tr>\n",
       "    <tr>\n",
       "      <th>4</th>\n",
       "      <td>Male</td>\n",
       "      <td>Loyal Customer</td>\n",
       "      <td>1.421415</td>\n",
       "      <td>Business travel</td>\n",
       "      <td>Business</td>\n",
       "      <td>-0.991019</td>\n",
       "      <td>0.242404</td>\n",
       "      <td>0.169209</td>\n",
       "      <td>0.232526</td>\n",
       "      <td>0.274731</td>\n",
       "      <td>0.238913</td>\n",
       "      <td>0.204305</td>\n",
       "      <td>0.259156</td>\n",
       "      <td>0.178408</td>\n",
       "      <td>0.218034</td>\n",
       "      <td>0.273086</td>\n",
       "      <td>0.360423</td>\n",
       "      <td>0.273914</td>\n",
       "      <td>0.185993</td>\n",
       "      <td>0.234797</td>\n",
       "      <td>-0.448829</td>\n",
       "      <td>-0.466483</td>\n",
       "      <td>satisfied</td>\n",
       "    </tr>\n",
       "    <tr>\n",
       "      <th>5</th>\n",
       "      <td>Female</td>\n",
       "      <td>Loyal Customer</td>\n",
       "      <td>-0.884977</td>\n",
       "      <td>Personal Travel</td>\n",
       "      <td>Eco</td>\n",
       "      <td>0.051591</td>\n",
       "      <td>0.242404</td>\n",
       "      <td>0.248451</td>\n",
       "      <td>0.229036</td>\n",
       "      <td>0.170408</td>\n",
       "      <td>0.121573</td>\n",
       "      <td>0.164785</td>\n",
       "      <td>0.115908</td>\n",
       "      <td>0.118889</td>\n",
       "      <td>0.218034</td>\n",
       "      <td>0.273086</td>\n",
       "      <td>0.360423</td>\n",
       "      <td>0.280544</td>\n",
       "      <td>0.367860</td>\n",
       "      <td>0.126899</td>\n",
       "      <td>-0.448829</td>\n",
       "      <td>-0.466483</td>\n",
       "      <td>neutral or dissatisfied</td>\n",
       "    </tr>\n",
       "  </tbody>\n",
       "</table>\n",
       "</div>"
      ],
      "text/plain": [
       "   Gender      Customer Type       Age   Type of Travel     Class  \\\n",
       "1    Male  disloyal Customer -0.950874  Business travel  Business   \n",
       "2  Female     Loyal Customer -0.884977  Business travel  Business   \n",
       "3  Female     Loyal Customer -0.950874  Business travel  Business   \n",
       "4    Male     Loyal Customer  1.421415  Business travel  Business   \n",
       "5  Female     Loyal Customer -0.884977  Personal Travel       Eco   \n",
       "\n",
       "   Flight Distance  Inflight wifi service  Departure/Arrival time convenient  \\\n",
       "1        -0.968353               0.242404                           0.163226   \n",
       "2         0.010578               0.244313                           0.163226   \n",
       "3        -0.615420               0.244313                           0.217249   \n",
       "4        -0.991019               0.242404                           0.169209   \n",
       "5         0.051591               0.242404                           0.248451   \n",
       "\n",
       "   Ease of Online booking  Gate location  Food and drink  Online boarding  \\\n",
       "1                0.232526       0.274731        0.121573         0.205175   \n",
       "2                0.229036       0.188115        0.219678         0.204305   \n",
       "3                0.135291       0.133456        0.208241         0.164785   \n",
       "4                0.232526       0.274731        0.238913         0.204305   \n",
       "5                0.229036       0.170408        0.121573         0.164785   \n",
       "\n",
       "   Seat comfort  Inflight entertainment  On-board service  Leg room service  \\\n",
       "1      0.115908                0.118889          0.111579          0.241873   \n",
       "2      0.259156                0.248727          0.301615          0.190990   \n",
       "3      0.139567                0.167130          0.135864          0.241873   \n",
       "4      0.259156                0.178408          0.218034          0.273086   \n",
       "5      0.115908                0.118889          0.218034          0.273086   \n",
       "\n",
       "   Baggage handling  Checkin service  Inflight service  Cleanliness  \\\n",
       "1          0.191669         0.120809          0.367860     0.126899   \n",
       "2          0.360423         0.280544          0.367860     0.222691   \n",
       "3          0.191669         0.120809          0.367860     0.152234   \n",
       "4          0.360423         0.273914          0.185993     0.234797   \n",
       "5          0.360423         0.280544          0.367860     0.126899   \n",
       "\n",
       "   Departure Delay in Minutes  Arrival Delay in Minutes  \\\n",
       "1                   -0.244932                  1.567134   \n",
       "2                   -0.448829                 -0.466483   \n",
       "3                    1.794042                  2.583942   \n",
       "4                   -0.448829                 -0.466483   \n",
       "5                   -0.448829                 -0.466483   \n",
       "\n",
       "              satisfaction  \n",
       "1  neutral or dissatisfied  \n",
       "2                satisfied  \n",
       "3  neutral or dissatisfied  \n",
       "4                satisfied  \n",
       "5  neutral or dissatisfied  "
      ]
     },
     "execution_count": 39,
     "metadata": {},
     "output_type": "execute_result"
    }
   ],
   "source": [
    "df.head()"
   ]
  },
  {
   "cell_type": "code",
   "execution_count": 40,
   "metadata": {},
   "outputs": [],
   "source": [
    "X=df.drop(columns='satisfaction')\n",
    "y=df['satisfaction']\n",
    "X=sm.add_constant(X)\n",
    "#as the data is imbalanced, we oversample the minority class\n",
    "rs = RandomOverSampler(random_state=42)\n",
    "\n",
    "X_resampled, y_resampled = rs.fit_resample(X, y)"
   ]
  },
  {
   "cell_type": "code",
   "execution_count": 41,
   "metadata": {},
   "outputs": [],
   "source": [
    "X_resampled=pd.get_dummies(X_resampled,drop_first=True)"
   ]
  },
  {
   "cell_type": "code",
   "execution_count": 42,
   "metadata": {},
   "outputs": [],
   "source": [
    "d={\"satisfied\":0,\"neutral or dissatisfied\":1}\n",
    "y_resampled=y_resampled.map(d)"
   ]
  },
  {
   "cell_type": "code",
   "execution_count": 43,
   "metadata": {},
   "outputs": [
    {
     "name": "stdout",
     "output_type": "stream",
     "text": [
      "The const distribution is not significantly different between train and test datasets.\n",
      "The Age distribution is not significantly different between train and test datasets.\n",
      "The Flight Distance distribution is not significantly different between train and test datasets.\n",
      "The Inflight wifi service distribution is not significantly different between train and test datasets.\n",
      "The Departure/Arrival time convenient distribution is not significantly different between train and test datasets.\n",
      "The Ease of Online booking distribution is not significantly different between train and test datasets.\n",
      "The Gate location distribution is not significantly different between train and test datasets.\n",
      "The Food and drink distribution is not significantly different between train and test datasets.\n",
      "The Online boarding distribution is not significantly different between train and test datasets.\n",
      "The Seat comfort distribution is not significantly different between train and test datasets.\n",
      "The Inflight entertainment distribution is not significantly different between train and test datasets.\n",
      "The On-board service distribution is not significantly different between train and test datasets.\n",
      "The Leg room service distribution is not significantly different between train and test datasets.\n",
      "The Baggage handling distribution is not significantly different between train and test datasets.\n",
      "The Checkin service distribution is not significantly different between train and test datasets.\n",
      "The Inflight service distribution is not significantly different between train and test datasets.\n",
      "The Cleanliness distribution is not significantly different between train and test datasets.\n",
      "The Departure Delay in Minutes distribution is not significantly different between train and test datasets.\n",
      "The Arrival Delay in Minutes distribution is not significantly different between train and test datasets.\n",
      "The Gender_Male distribution is not significantly different between train and test datasets.\n",
      "The Customer Type_disloyal Customer distribution is not significantly different between train and test datasets.\n",
      "The Type of Travel_Personal Travel distribution is not significantly different between train and test datasets.\n",
      "The Class_Eco distribution is not significantly different between train and test datasets.\n",
      "The Class_Eco Plus distribution is not significantly different between train and test datasets.\n"
     ]
    }
   ],
   "source": [
    "from scipy.stats import ttest_ind\n",
    "from sklearn.model_selection import train_test_split\n",
    "# Split the overall data into train and test datasets\n",
    "X_train, X_test, y_train, y_test = train_test_split(X_resampled, y_resampled, test_size=0.3, random_state=42)"
   ]
  },
  {
   "cell_type": "markdown",
   "metadata": {},
   "source": [
    "### Base Model"
   ]
  },
  {
   "cell_type": "code",
   "execution_count": 46,
   "metadata": {},
   "outputs": [
    {
     "name": "stdout",
     "output_type": "stream",
     "text": [
      "Optimization terminated successfully.\n",
      "         Current function value: 0.274917\n",
      "         Iterations 8\n"
     ]
    },
    {
     "data": {
      "text/html": [
       "<table class=\"simpletable\">\n",
       "<caption>Logit Regression Results</caption>\n",
       "<tr>\n",
       "  <th>Dep. Variable:</th>     <td>satisfaction</td>   <th>  No. Observations:  </th>  <td> 72198</td> \n",
       "</tr>\n",
       "<tr>\n",
       "  <th>Model:</th>                 <td>Logit</td>      <th>  Df Residuals:      </th>  <td> 72174</td> \n",
       "</tr>\n",
       "<tr>\n",
       "  <th>Method:</th>                 <td>MLE</td>       <th>  Df Model:          </th>  <td>    23</td> \n",
       "</tr>\n",
       "<tr>\n",
       "  <th>Date:</th>            <td>Mon, 04 Sep 2023</td> <th>  Pseudo R-squ.:     </th>  <td>0.6034</td> \n",
       "</tr>\n",
       "<tr>\n",
       "  <th>Time:</th>                <td>14:48:14</td>     <th>  Log-Likelihood:    </th> <td> -19848.</td>\n",
       "</tr>\n",
       "<tr>\n",
       "  <th>converged:</th>             <td>True</td>       <th>  LL-Null:           </th> <td> -50044.</td>\n",
       "</tr>\n",
       "<tr>\n",
       "  <th>Covariance Type:</th>     <td>nonrobust</td>    <th>  LLR p-value:       </th>  <td> 0.000</td> \n",
       "</tr>\n",
       "</table>\n",
       "<table class=\"simpletable\">\n",
       "<tr>\n",
       "                  <td></td>                     <th>coef</th>     <th>std err</th>      <th>z</th>      <th>P>|z|</th>  <th>[0.025</th>    <th>0.975]</th>  \n",
       "</tr>\n",
       "<tr>\n",
       "  <th>const</th>                             <td>    0.8952</td> <td>    0.142</td> <td>    6.307</td> <td> 0.000</td> <td>    0.617</td> <td>    1.173</td>\n",
       "</tr>\n",
       "<tr>\n",
       "  <th>Age</th>                               <td>    0.0812</td> <td>    0.014</td> <td>    5.725</td> <td> 0.000</td> <td>    0.053</td> <td>    0.109</td>\n",
       "</tr>\n",
       "<tr>\n",
       "  <th>Flight Distance</th>                   <td>   -0.0181</td> <td>    0.015</td> <td>   -1.239</td> <td> 0.215</td> <td>   -0.047</td> <td>    0.011</td>\n",
       "</tr>\n",
       "<tr>\n",
       "  <th>Inflight wifi service</th>             <td>   38.7339</td> <td>    0.448</td> <td>   86.530</td> <td> 0.000</td> <td>   37.856</td> <td>   39.611</td>\n",
       "</tr>\n",
       "<tr>\n",
       "  <th>Departure/Arrival time convenient</th> <td>    3.0547</td> <td>    0.279</td> <td>   10.952</td> <td> 0.000</td> <td>    2.508</td> <td>    3.601</td>\n",
       "</tr>\n",
       "<tr>\n",
       "  <th>Ease of Online booking</th>            <td>   -0.8476</td> <td>    0.447</td> <td>   -1.898</td> <td> 0.058</td> <td>   -1.723</td> <td>    0.028</td>\n",
       "</tr>\n",
       "<tr>\n",
       "  <th>Gate location</th>                     <td>   -4.5455</td> <td>    0.287</td> <td>  -15.811</td> <td> 0.000</td> <td>   -5.109</td> <td>   -3.982</td>\n",
       "</tr>\n",
       "<tr>\n",
       "  <th>Food and drink</th>                    <td>   -2.3503</td> <td>    0.497</td> <td>   -4.732</td> <td> 0.000</td> <td>   -3.324</td> <td>   -1.377</td>\n",
       "</tr>\n",
       "<tr>\n",
       "  <th>Online boarding</th>                   <td>  -11.9220</td> <td>    0.201</td> <td>  -59.333</td> <td> 0.000</td> <td>  -12.316</td> <td>  -11.528</td>\n",
       "</tr>\n",
       "<tr>\n",
       "  <th>Seat comfort</th>                      <td>   -0.9413</td> <td>    0.242</td> <td>   -3.884</td> <td> 0.000</td> <td>   -1.416</td> <td>   -0.466</td>\n",
       "</tr>\n",
       "<tr>\n",
       "  <th>Inflight entertainment</th>            <td>   -5.9594</td> <td>    0.368</td> <td>  -16.213</td> <td> 0.000</td> <td>   -6.680</td> <td>   -5.239</td>\n",
       "</tr>\n",
       "<tr>\n",
       "  <th>On-board service</th>                  <td>   -4.6501</td> <td>    0.246</td> <td>  -18.919</td> <td> 0.000</td> <td>   -5.132</td> <td>   -4.168</td>\n",
       "</tr>\n",
       "<tr>\n",
       "  <th>Leg room service</th>                  <td>  -11.4105</td> <td>    0.274</td> <td>  -41.675</td> <td> 0.000</td> <td>  -11.947</td> <td>  -10.874</td>\n",
       "</tr>\n",
       "<tr>\n",
       "  <th>Baggage handling</th>                  <td>   -1.2253</td> <td>    0.172</td> <td>   -7.117</td> <td> 0.000</td> <td>   -1.563</td> <td>   -0.888</td>\n",
       "</tr>\n",
       "<tr>\n",
       "  <th>Checkin service</th>                   <td>   -3.9485</td> <td>    0.204</td> <td>  -19.338</td> <td> 0.000</td> <td>   -4.349</td> <td>   -3.548</td>\n",
       "</tr>\n",
       "<tr>\n",
       "  <th>Inflight service</th>                  <td>   -0.3609</td> <td>    0.172</td> <td>   -2.093</td> <td> 0.036</td> <td>   -0.699</td> <td>   -0.023</td>\n",
       "</tr>\n",
       "<tr>\n",
       "  <th>Cleanliness</th>                       <td>   -2.6253</td> <td>    0.367</td> <td>   -7.145</td> <td> 0.000</td> <td>   -3.346</td> <td>   -1.905</td>\n",
       "</tr>\n",
       "<tr>\n",
       "  <th>Departure Delay in Minutes</th>        <td>   -0.0154</td> <td>    0.014</td> <td>   -1.067</td> <td> 0.286</td> <td>   -0.044</td> <td>    0.013</td>\n",
       "</tr>\n",
       "<tr>\n",
       "  <th>Arrival Delay in Minutes</th>          <td>    0.2027</td> <td>    0.014</td> <td>   13.996</td> <td> 0.000</td> <td>    0.174</td> <td>    0.231</td>\n",
       "</tr>\n",
       "<tr>\n",
       "  <th>Gender_Male</th>                       <td>   -0.0667</td> <td>    0.026</td> <td>   -2.584</td> <td> 0.010</td> <td>   -0.117</td> <td>   -0.016</td>\n",
       "</tr>\n",
       "<tr>\n",
       "  <th>Customer Type_disloyal Customer</th>   <td>    2.5494</td> <td>    0.041</td> <td>   62.577</td> <td> 0.000</td> <td>    2.470</td> <td>    2.629</td>\n",
       "</tr>\n",
       "<tr>\n",
       "  <th>Type of Travel_Personal Travel</th>    <td>    2.9480</td> <td>    0.042</td> <td>   70.622</td> <td> 0.000</td> <td>    2.866</td> <td>    3.030</td>\n",
       "</tr>\n",
       "<tr>\n",
       "  <th>Class_Eco</th>                         <td>    1.0698</td> <td>    0.035</td> <td>   30.839</td> <td> 0.000</td> <td>    1.002</td> <td>    1.138</td>\n",
       "</tr>\n",
       "<tr>\n",
       "  <th>Class_Eco Plus</th>                    <td>    1.2587</td> <td>    0.058</td> <td>   21.843</td> <td> 0.000</td> <td>    1.146</td> <td>    1.372</td>\n",
       "</tr>\n",
       "</table>"
      ],
      "text/plain": [
       "<class 'statsmodels.iolib.summary.Summary'>\n",
       "\"\"\"\n",
       "                           Logit Regression Results                           \n",
       "==============================================================================\n",
       "Dep. Variable:           satisfaction   No. Observations:                72198\n",
       "Model:                          Logit   Df Residuals:                    72174\n",
       "Method:                           MLE   Df Model:                           23\n",
       "Date:                Mon, 04 Sep 2023   Pseudo R-squ.:                  0.6034\n",
       "Time:                        14:48:14   Log-Likelihood:                -19848.\n",
       "converged:                       True   LL-Null:                       -50044.\n",
       "Covariance Type:            nonrobust   LLR p-value:                     0.000\n",
       "=====================================================================================================\n",
       "                                        coef    std err          z      P>|z|      [0.025      0.975]\n",
       "-----------------------------------------------------------------------------------------------------\n",
       "const                                 0.8952      0.142      6.307      0.000       0.617       1.173\n",
       "Age                                   0.0812      0.014      5.725      0.000       0.053       0.109\n",
       "Flight Distance                      -0.0181      0.015     -1.239      0.215      -0.047       0.011\n",
       "Inflight wifi service                38.7339      0.448     86.530      0.000      37.856      39.611\n",
       "Departure/Arrival time convenient     3.0547      0.279     10.952      0.000       2.508       3.601\n",
       "Ease of Online booking               -0.8476      0.447     -1.898      0.058      -1.723       0.028\n",
       "Gate location                        -4.5455      0.287    -15.811      0.000      -5.109      -3.982\n",
       "Food and drink                       -2.3503      0.497     -4.732      0.000      -3.324      -1.377\n",
       "Online boarding                     -11.9220      0.201    -59.333      0.000     -12.316     -11.528\n",
       "Seat comfort                         -0.9413      0.242     -3.884      0.000      -1.416      -0.466\n",
       "Inflight entertainment               -5.9594      0.368    -16.213      0.000      -6.680      -5.239\n",
       "On-board service                     -4.6501      0.246    -18.919      0.000      -5.132      -4.168\n",
       "Leg room service                    -11.4105      0.274    -41.675      0.000     -11.947     -10.874\n",
       "Baggage handling                     -1.2253      0.172     -7.117      0.000      -1.563      -0.888\n",
       "Checkin service                      -3.9485      0.204    -19.338      0.000      -4.349      -3.548\n",
       "Inflight service                     -0.3609      0.172     -2.093      0.036      -0.699      -0.023\n",
       "Cleanliness                          -2.6253      0.367     -7.145      0.000      -3.346      -1.905\n",
       "Departure Delay in Minutes           -0.0154      0.014     -1.067      0.286      -0.044       0.013\n",
       "Arrival Delay in Minutes              0.2027      0.014     13.996      0.000       0.174       0.231\n",
       "Gender_Male                          -0.0667      0.026     -2.584      0.010      -0.117      -0.016\n",
       "Customer Type_disloyal Customer       2.5494      0.041     62.577      0.000       2.470       2.629\n",
       "Type of Travel_Personal Travel        2.9480      0.042     70.622      0.000       2.866       3.030\n",
       "Class_Eco                             1.0698      0.035     30.839      0.000       1.002       1.138\n",
       "Class_Eco Plus                        1.2587      0.058     21.843      0.000       1.146       1.372\n",
       "=====================================================================================================\n",
       "\"\"\""
      ]
     },
     "execution_count": 46,
     "metadata": {},
     "output_type": "execute_result"
    }
   ],
   "source": [
    "base_model=sm.Logit(y_train,X_train).fit()\n",
    "base_model.summary()"
   ]
  },
  {
   "cell_type": "code",
   "execution_count": 47,
   "metadata": {},
   "outputs": [],
   "source": [
    "y_pred_prob=base_model.predict(X_test)\n",
    "y_pred = [1 if i>0.5 else 0 for i in y_pred_prob]"
   ]
  },
  {
   "cell_type": "code",
   "execution_count": 48,
   "metadata": {},
   "outputs": [
    {
     "data": {
      "text/plain": [
       "0.8943507207032513"
      ]
     },
     "execution_count": 48,
     "metadata": {},
     "output_type": "execute_result"
    }
   ],
   "source": [
    "accuracy_score(y_test,y_pred)"
   ]
  },
  {
   "cell_type": "code",
   "execution_count": 49,
   "metadata": {},
   "outputs": [],
   "source": [
    "#b)\n",
    "def validation(test,pred):\n",
    "    print('Confusion Matrix\\n',confusion_matrix(test,pred))\n",
    "    print('Accuracy:',accuracy_score(test,pred))\n",
    "    print('Precison:',precision_score(test,pred))\n",
    "    print('Recall:',recall_score(test,pred))\n",
    "    print('F1 Score:',f1_score(test,pred))\n",
    "    print('Cohen kappa Score:',cohen_kappa_score(test,pred))\n",
    "    print('Classification Report\\n',classification_report(test,pred))"
   ]
  },
  {
   "cell_type": "code",
   "execution_count": 50,
   "metadata": {},
   "outputs": [
    {
     "name": "stdout",
     "output_type": "stream",
     "text": [
      "Confusion Matrix\n",
      " [[13816  1681]\n",
      " [ 1588 13857]]\n",
      "Accuracy: 0.8943507207032513\n",
      "Precison: 0.8918136182262839\n",
      "Recall: 0.8971835545483975\n",
      "F1 Score: 0.8944905270632282\n",
      "Cohen kappa Score: 0.7887029792238373\n",
      "Classification Report\n",
      "               precision    recall  f1-score   support\n",
      "\n",
      "           0       0.90      0.89      0.89     15497\n",
      "           1       0.89      0.90      0.89     15445\n",
      "\n",
      "    accuracy                           0.89     30942\n",
      "   macro avg       0.89      0.89      0.89     30942\n",
      "weighted avg       0.89      0.89      0.89     30942\n",
      "\n"
     ]
    }
   ],
   "source": [
    "validation(y_test,y_pred)"
   ]
  },
  {
   "cell_type": "code",
   "execution_count": 69,
   "metadata": {},
   "outputs": [
    {
     "name": "stdout",
     "output_type": "stream",
     "text": [
      "Statistically significant columns: \n",
      "const\n",
      "Age\n",
      "Inflight wifi service\n",
      "Departure/Arrival time convenient\n",
      "Gate location\n",
      "Food and drink\n",
      "Online boarding\n",
      "Seat comfort\n",
      "Inflight entertainment\n",
      "On-board service\n",
      "Leg room service\n",
      "Baggage handling\n",
      "Checkin service\n",
      "Inflight service\n",
      "Cleanliness\n",
      "Arrival Delay in Minutes\n",
      "Gender_Male\n",
      "Customer Type_disloyal Customer\n",
      "Type of Travel_Personal Travel\n",
      "Class_Eco\n",
      "Class_Eco Plus\n"
     ]
    }
   ],
   "source": [
    "print('Statistically significant columns: ')\n",
    "for i in base_model.pvalues.to_dict():\n",
    "    if base_model.pvalues.to_dict()[i]<0.05:\n",
    "        print(i)"
   ]
  },
  {
   "cell_type": "code",
   "execution_count": 53,
   "metadata": {},
   "outputs": [
    {
     "data": {
      "text/plain": [
       "<AxesSubplot:>"
      ]
     },
     "execution_count": 53,
     "metadata": {},
     "output_type": "execute_result"
    },
    {
     "data": {
      "image/png": "[encoded data removed]",
      "text/plain": [
       "<Figure size 432x288 with 1 Axes>"
      ]
     },
     "metadata": {
      "needs_background": "light"
     },
     "output_type": "display_data"
    }
   ],
   "source": [
    "base_model.params[1:].sort_values().plot(kind='bar')"
   ]
  },
  {
   "cell_type": "code",
   "execution_count": 54,
   "metadata": {},
   "outputs": [
    {
     "data": {
      "text/plain": [
       "0.7887029792238373"
      ]
     },
     "execution_count": 54,
     "metadata": {},
     "output_type": "execute_result"
    }
   ],
   "source": [
    "#As the kappa score for the full model (with cut-off probability 0.5) is 0.7887, \n",
    "# we can say that there is substantial agreement between the actual and predicted values.\n",
    "cohen_kappa_score(y_test,y_pred)"
   ]
  },
  {
   "cell_type": "code",
   "execution_count": 55,
   "metadata": {},
   "outputs": [],
   "source": [
    "def roc_curv(test,pred):\n",
    "    fpr,tpr,thres=roc_curve(test,pred)\n",
    "    print('AUC:',roc_auc_score(test,pred))\n",
    "    plt.plot(fpr,tpr,color='red')\n",
    "    plt.plot([0, 1], [0, 1],'b--')\n",
    "    plt.xlabel('FPR')\n",
    "    plt.ylabel('TPR')\n",
    "    plt.title('ROC CURVE')"
   ]
  },
  {
   "cell_type": "code",
   "execution_count": 56,
   "metadata": {},
   "outputs": [
    {
     "name": "stdout",
     "output_type": "stream",
     "text": [
      "AUC: 0.8943554734734631\n"
     ]
    },
    {
     "data": {
      "image/png": "[encoded data removed]",
      "text/plain": [
       "<Figure size 432x288 with 1 Axes>"
      ]
     },
     "metadata": {
      "needs_background": "light"
     },
     "output_type": "display_data"
    }
   ],
   "source": [
    "roc_curv(y_test,y_pred)"
   ]
  },
  {
   "cell_type": "markdown",
   "metadata": {},
   "source": [
    "### We will try other algorithms to improve the accuracy of the model"
   ]
  },
  {
   "cell_type": "code",
   "execution_count": 58,
   "metadata": {},
   "outputs": [],
   "source": [
    "from sklearn.neighbors import KNeighborsClassifier\n",
    "from sklearn.naive_bayes import GaussianNB\n",
    "from sklearn.tree import DecisionTreeClassifier\n",
    "from sklearn.ensemble import RandomForestClassifier, GradientBoostingClassifier\n",
    "from sklearn.model_selection import GridSearchCV"
   ]
  },
  {
   "cell_type": "code",
   "execution_count": 59,
   "metadata": {},
   "outputs": [],
   "source": [
    "def model_results(model,x_train,y_train,x_test,y_test):\n",
    "    print(str(model))\n",
    "\n",
    "    model.fit(x_train,y_train)\n",
    "    y_pred = model.predict(x_test)\n",
    "   \n",
    "    validation(y_test,y_pred)\n",
    "    \n",
    "    y_pred_prob = model.predict_proba(x_test)[:,1]\n",
    "    \n",
    "    roc_curv(y_test,y_pred_prob)"
   ]
  },
  {
   "cell_type": "code",
   "execution_count": 60,
   "metadata": {},
   "outputs": [
    {
     "name": "stdout",
     "output_type": "stream",
     "text": [
      "KNeighborsClassifier(n_neighbors=3)\n",
      "Confusion Matrix\n",
      " [[13106  2391]\n",
      " [ 2497 12948]]\n",
      "Accuracy: 0.8420270182922888\n",
      "Precison: 0.8441228241736749\n",
      "Recall: 0.8383295564907737\n",
      "F1 Score: 0.8412162162162161\n",
      "Cohen kappa Score: 0.684049506257633\n",
      "Classification Report\n",
      "               precision    recall  f1-score   support\n",
      "\n",
      "           0       0.84      0.85      0.84     15497\n",
      "           1       0.84      0.84      0.84     15445\n",
      "\n",
      "    accuracy                           0.84     30942\n",
      "   macro avg       0.84      0.84      0.84     30942\n",
      "weighted avg       0.84      0.84      0.84     30942\n",
      "\n",
      "AUC: 0.8949654224578351\n"
     ]
    },
    {
     "data": {
      "image/png": "[encoded data removed]",
      "text/plain": [
       "<Figure size 432x288 with 1 Axes>"
      ]
     },
     "metadata": {
      "needs_background": "light"
     },
     "output_type": "display_data"
    }
   ],
   "source": [
    "model_results(KNeighborsClassifier(n_neighbors=3),X_train,y_train,X_test,y_test)"
   ]
  },
  {
   "cell_type": "code",
   "execution_count": 61,
   "metadata": {},
   "outputs": [
    {
     "name": "stdout",
     "output_type": "stream",
     "text": [
      "DecisionTreeClassifier(max_depth=5)\n",
      "Confusion Matrix\n",
      " [[13907  1590]\n",
      " [ 1238 14207]]\n",
      "Accuracy: 0.9086031930709069\n",
      "Precison: 0.8993479774640755\n",
      "Recall: 0.9198446099061185\n",
      "F1 Score: 0.9094808270917355\n",
      "Cohen kappa Score: 0.8172128590554967\n",
      "Classification Report\n",
      "               precision    recall  f1-score   support\n",
      "\n",
      "           0       0.92      0.90      0.91     15497\n",
      "           1       0.90      0.92      0.91     15445\n",
      "\n",
      "    accuracy                           0.91     30942\n",
      "   macro avg       0.91      0.91      0.91     30942\n",
      "weighted avg       0.91      0.91      0.91     30942\n",
      "\n",
      "AUC: 0.968345228234005\n"
     ]
    },
    {
     "data": {
      "image/png": "[encoded data removed]",
      "text/plain": [
       "<Figure size 432x288 with 1 Axes>"
      ]
     },
     "metadata": {
      "needs_background": "light"
     },
     "output_type": "display_data"
    }
   ],
   "source": [
    "model_results(DecisionTreeClassifier(max_depth=5),X_train,y_train,X_test,y_test)"
   ]
  },
  {
   "cell_type": "code",
   "execution_count": 62,
   "metadata": {},
   "outputs": [
    {
     "name": "stdout",
     "output_type": "stream",
     "text": [
      "RandomForestClassifier(max_depth=5, n_estimators=500)\n",
      "Confusion Matrix\n",
      " [[13884  1613]\n",
      " [  951 14494]]\n",
      "Accuracy: 0.9171352853726327\n",
      "Precison: 0.8998572049419507\n",
      "Recall: 0.9384266752994497\n",
      "F1 Score: 0.9187373225152129\n",
      "Cohen kappa Score: 0.8342820196336962\n",
      "Classification Report\n",
      "               precision    recall  f1-score   support\n",
      "\n",
      "           0       0.94      0.90      0.92     15497\n",
      "           1       0.90      0.94      0.92     15445\n",
      "\n",
      "    accuracy                           0.92     30942\n",
      "   macro avg       0.92      0.92      0.92     30942\n",
      "weighted avg       0.92      0.92      0.92     30942\n",
      "\n",
      "AUC: 0.9663819204723737\n"
     ]
    },
    {
     "data": {
      "image/png": "[encoded data removed]",
      "text/plain": [
       "<Figure size 432x288 with 1 Axes>"
      ]
     },
     "metadata": {
      "needs_background": "light"
     },
     "output_type": "display_data"
    }
   ],
   "source": [
    "model_results(RandomForestClassifier(n_estimators=500,max_depth=5),X_train,y_train,X_test,y_test)"
   ]
  },
  {
   "cell_type": "code",
   "execution_count": 63,
   "metadata": {
    "scrolled": false
   },
   "outputs": [
    {
     "name": "stdout",
     "output_type": "stream",
     "text": [
      "GradientBoostingClassifier(n_estimators=200)\n",
      "Confusion Matrix\n",
      " [[14372  1125]\n",
      " [  702 14743]]\n",
      "Accuracy: 0.9409540430482839\n",
      "Precison: 0.9291025964204689\n",
      "Recall: 0.9545483975396568\n",
      "F1 Score: 0.9416536262894006\n",
      "Cohen kappa Score: 0.8819131785669901\n",
      "Classification Report\n",
      "               precision    recall  f1-score   support\n",
      "\n",
      "           0       0.95      0.93      0.94     15497\n",
      "           1       0.93      0.95      0.94     15445\n",
      "\n",
      "    accuracy                           0.94     30942\n",
      "   macro avg       0.94      0.94      0.94     30942\n",
      "weighted avg       0.94      0.94      0.94     30942\n",
      "\n",
      "AUC: 0.9884352495213466\n"
     ]
    },
    {
     "data": {
      "image/png": "[encoded data removed]",
      "text/plain": [
       "<Figure size 432x288 with 1 Axes>"
      ]
     },
     "metadata": {
      "needs_background": "light"
     },
     "output_type": "display_data"
    }
   ],
   "source": [
    "model_results(GradientBoostingClassifier(n_estimators=200),X_train,y_train,X_test,y_test)"
   ]
  },
  {
   "cell_type": "code",
   "execution_count": null,
   "metadata": {},
   "outputs": [],
   "source": [
    "# Hyper-Parameter Tuning"
   ]
  },
  {
   "cell_type": "code",
   "execution_count": 84,
   "metadata": {},
   "outputs": [
    {
     "name": "stdout",
     "output_type": "stream",
     "text": [
      "Best parameters for decision tree classifier:  {'max_depth': 9, 'min_samples_leaf': 2} \n",
      "\n"
     ]
    }
   ],
   "source": [
    "# Check the paramters for models using GridSearchCV\n",
    "tuned_paramaters = [{'max_depth':range(2,10),\n",
    "                     #'max_features': [\"sqrt\", \"log2\"],\n",
    "                     #'min_samples_split': range(2,10),\n",
    "                     'min_samples_leaf': range(1,10)\n",
    "                    }]\n",
    "                \n",
    "rf = DecisionTreeClassifier(random_state = 42)\n",
    "\n",
    "tree_grid = GridSearchCV(estimator = rf, param_grid = tuned_paramaters, cv = 5)\n",
    "\n",
    "rf_model_tuned = tree_grid.fit(X_train, y_train)\n",
    "\n",
    "print('Best parameters for decision tree classifier: ', rf_model_tuned.best_params_, '\\n')"
   ]
  },
  {
   "cell_type": "code",
   "execution_count": 86,
   "metadata": {},
   "outputs": [
    {
     "name": "stdout",
     "output_type": "stream",
     "text": [
      "DecisionTreeClassifier(max_depth=9, min_samples_leaf=2)\n",
      "Confusion Matrix\n",
      " [[14346  1151]\n",
      " [  971 14474]]\n",
      "Accuracy: 0.9314200762717342\n",
      "Precison: 0.926336\n",
      "Recall: 0.937131757850437\n",
      "F1 Score: 0.9317026070164146\n",
      "Cohen kappa Score: 0.8628424469851572\n",
      "Classification Report\n",
      "               precision    recall  f1-score   support\n",
      "\n",
      "           0       0.94      0.93      0.93     15497\n",
      "           1       0.93      0.94      0.93     15445\n",
      "\n",
      "    accuracy                           0.93     30942\n",
      "   macro avg       0.93      0.93      0.93     30942\n",
      "weighted avg       0.93      0.93      0.93     30942\n",
      "\n",
      "AUC: 0.9835810136959225\n"
     ]
    },
    {
     "data": {
      "image/png": "[encoded data removed]",
      "text/plain": [
       "<Figure size 432x288 with 1 Axes>"
      ]
     },
     "metadata": {
      "needs_background": "light"
     },
     "output_type": "display_data"
    }
   ],
   "source": [
    "model_results(DecisionTreeClassifier(criterion='gini',max_depth=9,min_samples_leaf=2),X_train,y_train,X_test,y_test)"
   ]
  },
  {
   "cell_type": "code",
   "execution_count": null,
   "metadata": {},
   "outputs": [],
   "source": [
    "#F1-Score is coming out to be good, thus our model works well in predicting whether the customer will be satisfied or not"
   ]
  },
  {
   "cell_type": "code",
   "execution_count": 87,
   "metadata": {},
   "outputs": [
    {
     "data": {
      "image/png": "[encoded data removed]",
      "text/plain": [
       "<Figure size 432x288 with 1 Axes>"
      ]
     },
     "metadata": {
      "needs_background": "light"
     },
     "output_type": "display_data"
    }
   ],
   "source": [
    "# Feature Selection\n",
    "rf = RandomForestClassifier(max_depth=5)\n",
    "\n",
    "# Fit the model to your data\n",
    "rf.fit(X_train, y_train)\n",
    "\n",
    "# Get feature importances\n",
    "pd.DataFrame(rf.feature_importances_,rf.feature_names_in_,columns=['Weightage']).\\\n",
    "sort_values(by='Weightage',ascending=False).plot(kind='bar')\n",
    "plt.show()"
   ]
  },
  {
   "cell_type": "code",
   "execution_count": null,
   "metadata": {},
   "outputs": [],
   "source": [
    "# We can exclude the non-important columns from model building as they do noy effect the satisfaction rate.\n",
    "# Features like :  Gender, Gate Location, Class, Age etc"
   ]
  }
 ],
 "metadata": {
  "hide_input": false,
  "kernelspec": {
   "display_name": "Python 3 (ipykernel)",
   "language": "python",
   "name": "python3"
  },
  "language_info": {
   "codemirror_mode": {
    "name": "ipython",
    "version": 3
   },
   "file_extension": ".py",
   "mimetype": "text/x-python",
   "name": "python",
   "nbconvert_exporter": "python",
   "pygments_lexer": "ipython3",
   "version": "3.9.12"
  },
  "toc": {
   "base_numbering": 1,
   "nav_menu": {},
   "number_sections": true,
   "sideBar": true,
   "skip_h1_title": false,
   "title_cell": "Table of Contents",
   "title_sidebar": "Contents",
   "toc_cell": false,
   "toc_position": {},
   "toc_section_display": true,
   "toc_window_display": false
  },
  "varInspector": {
   "cols": {
    "lenName": 16,
    "lenType": 16,
    "lenVar": 40
   },
   "kernels_config": {
    "python": {
     "delete_cmd_postfix": "",
     "delete_cmd_prefix": "del ",
     "library": "var_list.py",
     "varRefreshCmd": "print(var_dic_list())"
    },
    "r": {
     "delete_cmd_postfix": ") ",
     "delete_cmd_prefix": "rm(",
     "library": "var_list.r",
     "varRefreshCmd": "cat(var_dic_list()) "
    }
   },
   "types_to_exclude": [
    "module",
    "function",
    "builtin_function_or_method",
    "instance",
    "_Feature"
   ],
   "window_display": false
  }
 },
 "nbformat": 4,
 "nbformat_minor": 2
}
